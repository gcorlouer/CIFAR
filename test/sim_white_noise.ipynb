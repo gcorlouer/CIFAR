{
 "cells": [
  {
   "cell_type": "code",
   "execution_count": 4,
   "metadata": {},
   "outputs": [
    {
     "name": "stdout",
     "output_type": "stream",
     "text": [
      "Using matplotlib backend: Qt5Agg\n"
     ]
    }
   ],
   "source": [
    "from mne_bids import make_bids_basename\n",
    "from pathlib import Path, PurePath\n",
    "import seaborn\n",
    "import helper\n",
    "import mne\n",
    "import os\n",
    "import matplotlib.pyplot as plt\n",
    "import pandas as pd\n",
    "import matlab.engine\n",
    "import numpy as np\n",
    "import scipy as sp\n",
    "import scipy.io\n",
    "import re\n",
    "%matplotlib \n"
   ]
  },
  {
   "cell_type": "code",
   "execution_count": 6,
   "metadata": {},
   "outputs": [],
   "source": [
    "mean = 0\n",
    "std = 1 \n",
    "num_samples = 1000\n",
    "eps = np.random.normal(mean, std, size=num_samples) # Gaussian white noise\n",
    "\n",
    "plt.plot(samples)\n",
    "plt.show()"
   ]
  },
  {
   "cell_type": "code",
   "execution_count": 15,
   "metadata": {},
   "outputs": [
    {
     "name": "stderr",
     "output_type": "stream",
     "text": [
      "/home/guime/anaconda3/envs/neuro/lib/python3.7/site-packages/numpy/core/_asarray.py:85: ComplexWarning: Casting complex values to real discards the imaginary part\n",
      "  return array(a, dtype, copy=False, order=order)\n"
     ]
    },
    {
     "data": {
      "text/plain": [
       "[<matplotlib.lines.Line2D at 0x7fb33c852bd0>]"
      ]
     },
     "execution_count": 15,
     "metadata": {},
     "output_type": "execute_result"
    }
   ],
   "source": [
    "analytic_signal = signal.hilbert(eps)\n",
    "amplitude_envelope = np.abs(analytic_signal)\n",
    "plt.plot(analytic_signal)\n",
    "plt.plot(amplitude_envelope)"
   ]
  },
  {
   "cell_type": "code",
   "execution_count": 28,
   "metadata": {},
   "outputs": [],
   "source": [
    "hist = np.histogram(amplitude_envelope, bins=100, density=True)"
   ]
  },
  {
   "cell_type": "code",
   "execution_count": 40,
   "metadata": {},
   "outputs": [
    {
     "name": "stderr",
     "output_type": "stream",
     "text": [
      "/home/guime/anaconda3/envs/neuro/lib/python3.7/site-packages/ipykernel_launcher.py:4: MatplotlibDeprecationWarning: \n",
      "The 'normed' kwarg was deprecated in Matplotlib 2.1 and will be removed in 3.1. Use 'density' instead.\n",
      "  after removing the cwd from sys.path.\n"
     ]
    }
   ],
   "source": [
    "from scipy.stats import lognorm\n",
    "fig, ax = plt.subplots(1, 1)\n",
    "param = scipy.stats.lognorm.fit(amplitude_envelope)\n",
    "ax.hist(amplitude_envelope, bins=np.logspace(-10,5,200),normed=1, label='envelope of gaussian')\n",
    "ax.set_xscale(\"log\")\n",
    "\n",
    "x = np.logspace(-2, 5, 200)\n",
    "pdf = scipy.stats.lognorm.pdf(x, param[0], loc=param[1], scale=param[2])\n",
    "ax.plot(x, pdf, 'r', label='lognormal distrib')\n",
    "ax.set_title('Distribution of Gaussian envelope fitted by lognormal')\n",
    "ax.legend()\n",
    "plt.show()\n",
    "#plt.hist(V2_elec[0,0,:], bins=100)\n",
    "# plt.plot(pdf)\n",
    "# plt.plot(hist)"
   ]
  },
  {
   "cell_type": "code",
   "execution_count": 20,
   "metadata": {},
   "outputs": [
    {
     "data": {
      "text/plain": [
       "(array([ 2.,  5.,  5.,  8.,  8.,  7., 18., 10., 13., 11., 15., 25., 28.,\n",
       "        14., 16., 15., 21., 23., 26., 25., 27., 18., 23., 28., 18., 18.,\n",
       "        15., 29., 18., 22., 18., 22., 20., 16., 14., 20., 30., 27., 17.,\n",
       "        10., 22., 16., 11., 11., 14., 11., 11., 16.,  7., 13.,  9.,  9.,\n",
       "         9., 12., 11.,  8.,  6.,  9., 12.,  5.,  4.,  6.,  5.,  6.,  2.,\n",
       "         7.,  5.,  5.,  5.,  6.,  1.,  2.,  2.,  1.,  2.,  4.,  1.,  1.,\n",
       "         1.,  1.,  0.,  1.,  0.,  1.,  0.,  0.,  1.,  0.,  0.,  0.,  0.,\n",
       "         1.,  0.,  0.,  0.,  0.,  0.,  1.,  0.,  1.]),\n",
       " array([0.03576947, 0.07477717, 0.11378487, 0.15279258, 0.19180028,\n",
       "        0.23080798, 0.26981568, 0.30882338, 0.34783108, 0.38683879,\n",
       "        0.42584649, 0.46485419, 0.50386189, 0.54286959, 0.5818773 ,\n",
       "        0.620885  , 0.6598927 , 0.6989004 , 0.7379081 , 0.7769158 ,\n",
       "        0.81592351, 0.85493121, 0.89393891, 0.93294661, 0.97195431,\n",
       "        1.01096202, 1.04996972, 1.08897742, 1.12798512, 1.16699282,\n",
       "        1.20600053, 1.24500823, 1.28401593, 1.32302363, 1.36203133,\n",
       "        1.40103903, 1.44004674, 1.47905444, 1.51806214, 1.55706984,\n",
       "        1.59607754, 1.63508525, 1.67409295, 1.71310065, 1.75210835,\n",
       "        1.79111605, 1.83012375, 1.86913146, 1.90813916, 1.94714686,\n",
       "        1.98615456, 2.02516226, 2.06416997, 2.10317767, 2.14218537,\n",
       "        2.18119307, 2.22020077, 2.25920847, 2.29821618, 2.33722388,\n",
       "        2.37623158, 2.41523928, 2.45424698, 2.49325469, 2.53226239,\n",
       "        2.57127009, 2.61027779, 2.64928549, 2.6882932 , 2.7273009 ,\n",
       "        2.7663086 , 2.8053163 , 2.844324  , 2.8833317 , 2.92233941,\n",
       "        2.96134711, 3.00035481, 3.03936251, 3.07837021, 3.11737792,\n",
       "        3.15638562, 3.19539332, 3.23440102, 3.27340872, 3.31241642,\n",
       "        3.35142413, 3.39043183, 3.42943953, 3.46844723, 3.50745493,\n",
       "        3.54646264, 3.58547034, 3.62447804, 3.66348574, 3.70249344,\n",
       "        3.74150114, 3.78050885, 3.81951655, 3.85852425, 3.89753195,\n",
       "        3.93653965]),\n",
       " <a list of 100 Patch objects>)"
      ]
     },
     "execution_count": 20,
     "metadata": {},
     "output_type": "execute_result"
    }
   ],
   "source": [
    "plt.hist(amplitude_envelope, bins=100)"
   ]
  },
  {
   "cell_type": "code",
   "execution_count": 10,
   "metadata": {},
   "outputs": [
    {
     "ename": "NameError",
     "evalue": "name 'numtaps' is not defined",
     "output_type": "error",
     "traceback": [
      "\u001b[0;31m---------------------------------------------------------------------------\u001b[0m",
      "\u001b[0;31mNameError\u001b[0m                                 Traceback (most recent call last)",
      "\u001b[0;32m<ipython-input-10-9937c28c07d4>\u001b[0m in \u001b[0;36m<module>\u001b[0;34m\u001b[0m\n\u001b[1;32m      2\u001b[0m \u001b[0;32mfrom\u001b[0m \u001b[0mscipy\u001b[0m \u001b[0;32mimport\u001b[0m \u001b[0msignal\u001b[0m\u001b[0;34m\u001b[0m\u001b[0;34m\u001b[0m\u001b[0m\n\u001b[1;32m      3\u001b[0m \u001b[0mf1\u001b[0m\u001b[0;34m,\u001b[0m \u001b[0mf2\u001b[0m \u001b[0;34m=\u001b[0m \u001b[0;36m0.1\u001b[0m\u001b[0;34m,\u001b[0m \u001b[0;36m0.2\u001b[0m\u001b[0;34m\u001b[0m\u001b[0;34m\u001b[0m\u001b[0m\n\u001b[0;32m----> 4\u001b[0;31m \u001b[0msignal\u001b[0m\u001b[0;34m.\u001b[0m\u001b[0mfirwin\u001b[0m\u001b[0;34m(\u001b[0m\u001b[0mnumtaps\u001b[0m\u001b[0;34m,\u001b[0m \u001b[0;34m[\u001b[0m\u001b[0mf1\u001b[0m\u001b[0;34m,\u001b[0m \u001b[0mf2\u001b[0m\u001b[0;34m]\u001b[0m\u001b[0;34m,\u001b[0m \u001b[0mpass_zero\u001b[0m\u001b[0;34m=\u001b[0m\u001b[0;32mFalse\u001b[0m\u001b[0;34m)\u001b[0m\u001b[0;34m\u001b[0m\u001b[0;34m\u001b[0m\u001b[0m\n\u001b[0m",
      "\u001b[0;31mNameError\u001b[0m: name 'numtaps' is not defined"
     ]
    }
   ],
   "source": [
    "# Extract envelope\n",
    "from scipy import signal \n",
    "f1, f2 = 0.1, 0.2\n",
    "signal.firwin(numtaps, [f1, f2], pass_zero=False)"
   ]
  }
 ],
 "metadata": {
  "kernelspec": {
   "display_name": "Python 3",
   "language": "python",
   "name": "python3"
  },
  "language_info": {
   "codemirror_mode": {
    "name": "ipython",
    "version": 3
   },
   "file_extension": ".py",
   "mimetype": "text/x-python",
   "name": "python",
   "nbconvert_exporter": "python",
   "pygments_lexer": "ipython3",
   "version": "3.7.7"
  }
 },
 "nbformat": 4,
 "nbformat_minor": 4
}
