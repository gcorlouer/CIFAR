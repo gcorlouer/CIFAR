{
 "cells": [
  {
   "cell_type": "code",
   "execution_count": 2,
   "metadata": {},
   "outputs": [],
   "source": [
    "from mne_bids import make_bids_basename\n",
    "from pathlib import Path, PurePath\n",
    "import mne\n",
    "import os\n",
    "import matplotlib.pyplot as plt\n",
    "import pandas as pd\n",
    "import matlab.engine\n",
    "import numpy as np\n",
    "import scipy as sp\n",
    "import scipy.io\n",
    "pd.options.display.html.table_schema = True\n",
    "pd.options.display.max_rows = None\n",
    "from mne.time_frequency import psd_multitaper"
   ]
  },
  {
   "cell_type": "code",
   "execution_count": 3,
   "metadata": {},
   "outputs": [],
   "source": [
    "subpath = Path('~','projects','CIFAR','data_bids', 'sub-06' ).expanduser()"
   ]
  },
  {
   "cell_type": "code",
   "execution_count": 4,
   "metadata": {},
   "outputs": [],
   "source": [
    "elecinfo = subpath.joinpath('anat','electrodes_info.csv')\n",
    "dfelec = pd.read_csv(elecinfo)\n",
    "ROIs = dfelec['Brodman'].unique()\n",
    "nROIs = len(ROIs)"
   ]
  },
  {
   "cell_type": "code",
   "execution_count": 6,
   "metadata": {},
   "outputs": [
    {
     "data": {
      "text/plain": [
       "array(['MT', 'V2', 'V1', 'BA2', 'BA1', 'BA44', 'BA45', 'BA3b', 'BA6',\n",
       "       'BA4a', 'BA4p', 'BA3a', 'perirhinal'], dtype=object)"
      ]
     },
     "execution_count": 6,
     "metadata": {},
     "output_type": "execute_result"
    }
   ],
   "source": [
    "ROIs"
   ]
  },
  {
   "cell_type": "code",
   "execution_count": 5,
   "metadata": {},
   "outputs": [
    {
     "data": {
      "application/vnd.dataresource+json": {
       "data": [
        {
         "Brodman": "V2",
         "index": 3
        }
       ],
       "schema": {
        "fields": [
         {
          "name": "index",
          "type": "integer"
         },
         {
          "name": "Brodman",
          "type": "string"
         }
        ],
        "pandas_version": "0.20.0",
        "primaryKey": [
         "index"
        ]
       }
      },
      "text/plain": [
       "3    V2\n",
       "Name: Brodman, dtype: object"
      ]
     },
     "execution_count": 5,
     "metadata": {},
     "output_type": "execute_result"
    }
   ],
   "source": [
    "dfelec['Brodman'].loc[dfelec['electrode_name'] == 'RTo7']"
   ]
  },
  {
   "cell_type": "code",
   "execution_count": 7,
   "metadata": {},
   "outputs": [
    {
     "data": {
      "application/vnd.dataresource+json": {
       "data": [
        {
         "electrode_name": "RIa14",
         "index": 26
        },
        {
         "electrode_name": "RIa13",
         "index": 27
        },
        {
         "electrode_name": "RIa12",
         "index": 28
        },
        {
         "electrode_name": "RIa11",
         "index": 29
        },
        {
         "electrode_name": "RIa10",
         "index": 30
        },
        {
         "electrode_name": "RIa9",
         "index": 31
        },
        {
         "electrode_name": "RIa8",
         "index": 32
        }
       ],
       "schema": {
        "fields": [
         {
          "name": "index",
          "type": "integer"
         },
         {
          "name": "electrode_name",
          "type": "string"
         }
        ],
        "pandas_version": "0.20.0",
        "primaryKey": [
         "index"
        ]
       }
      },
      "text/plain": [
       "26    RIa14\n",
       "27    RIa13\n",
       "28    RIa12\n",
       "29    RIa11\n",
       "30    RIa10\n",
       "31     RIa9\n",
       "32     RIa8\n",
       "Name: electrode_name, dtype: object"
      ]
     },
     "execution_count": 7,
     "metadata": {},
     "output_type": "execute_result"
    }
   ],
   "source": [
    "dfelec['electrode_name'].loc[dfelec['Brodman'] == 'BA45']"
   ]
  },
  {
   "cell_type": "code",
   "execution_count": null,
   "metadata": {},
   "outputs": [],
   "source": [
    "# Channels to pick\n",
    "['RTo9-RTo10',  'RTo7-RTo8', 'RO1-RO2', 'RIp9-RIp10', 'RFp5-RFp6', 'RIa5-RIa6', 'RIa11-RIa12', 'RFPs9-RFPs10', 'RTp5-RTp6']"
   ]
  },
  {
   "cell_type": "code",
   "execution_count": null,
   "metadata": {},
   "outputs": [],
   "source": [
    "proc = 'BP'\n",
    "subid = 'JuRo'\n",
    "cfsubdir = Path('~','CIFAR_data','iEEG_10','subjects', subid, 'EEGLAB_datasets', 'bipolar_montage').expanduser()\n",
    "fname = helper.CIFAR_filename(subid=subid,task='rest_baseline',proc=proc)\n",
    "fpath = cfsubdir.joinpath(fname)\n",
    "fpath = os.fspath(fpath)\n",
    "raw = mne.io.read_raw_eeglab(fpath)"
   ]
  }
 ],
 "metadata": {
  "kernelspec": {
   "display_name": "Python 3",
   "language": "python",
   "name": "python3"
  },
  "language_info": {
   "codemirror_mode": {
    "name": "ipython",
    "version": 3
   },
   "file_extension": ".py",
   "mimetype": "text/x-python",
   "name": "python",
   "nbconvert_exporter": "python",
   "pygments_lexer": "ipython3",
   "version": "3.7.7"
  }
 },
 "nbformat": 4,
 "nbformat_minor": 4
}
