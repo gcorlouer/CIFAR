{
 "cells": [
  {
   "cell_type": "code",
   "execution_count": 1,
   "metadata": {},
   "outputs": [],
   "source": [
    "from mne_bids import make_bids_basename\n",
    "from pathlib import Path, PurePath\n",
    "import mne\n",
    "import os\n",
    "import matplotlib.pyplot as plt\n",
    "import pandas as pd\n",
    "import matlab.engine\n",
    "import numpy as np\n",
    "import scipy as sp\n",
    "import scipy.io\n",
    "pd.options.display.html.table_schema = True\n",
    "pd.options.display.max_rows = None\n",
    "from mne.time_frequency import psd_multitaper"
   ]
  },
  {
   "cell_type": "code",
   "execution_count": 157,
   "metadata": {},
   "outputs": [
    {
     "name": "stdout",
     "output_type": "stream",
     "text": [
      "Using matplotlib backend: Qt5Agg\n"
     ]
    }
   ],
   "source": [
    "%matplotlib "
   ]
  },
  {
   "cell_type": "code",
   "execution_count": 45,
   "metadata": {},
   "outputs": [],
   "source": [
    "subpath = Path('~','projects','CIFAR','data_bids', 'sub-08' ).expanduser()"
   ]
  },
  {
   "cell_type": "code",
   "execution_count": 162,
   "metadata": {},
   "outputs": [],
   "source": [
    "subpath = Path('~','projects','CIFAR','data_bids', 'sub-00' ).expanduser()\n",
    "elecinfo = subpath.joinpath('anat','electrodes_info.csv')\n",
    "dfelec = pd.read_csv(elecinfo)\n",
    "ROIs = dfelec['Brodman'].unique()\n",
    "nROIs = len(ROIs)"
   ]
  },
  {
   "cell_type": "code",
   "execution_count": 172,
   "metadata": {},
   "outputs": [
    {
     "data": {
      "text/plain": [
       "'Grid'"
      ]
     },
     "execution_count": 172,
     "metadata": {},
     "output_type": "execute_result"
    }
   ],
   "source": [
    "# import re\n",
    "# string = dfelec['electrode_name']\n",
    "# m = re.search(r\"\\d\", string)\n",
    "# m.start()\n",
    "# string[0:m.start()]"
   ]
  },
  {
   "cell_type": "code",
   "execution_count": 49,
   "metadata": {},
   "outputs": [
    {
     "name": "stdout",
     "output_type": "stream",
     "text": [
      "['BA2' 'MT' 'V2' 'BA1' 'V1' 'BA3b' 'BA6' 'BA44' 'BA45' 'BA4a' 'perirhinal']\n",
      "['BA45' 'perirhinal' 'BA44' 'MT' 'V2' 'V1' 'BA3a']\n",
      "['BA1' 'BA2' 'BA3b' 'perirhinal' 'BA6' 'BA44' 'BA45' 'V2' 'MT' 'BA3a']\n",
      "['MT' 'V2' 'BA2' 'BA6' 'perirhinal' 'BA45' 'BA44' 'BA3b']\n",
      "['BA2' 'BA3b' 'BA6' 'MT' 'BA1' 'BA4a' 'BA3a' 'BA45' 'BA44' 'perirhinal'\n",
      " 'V2' 'V1']\n",
      "['BA3a' 'BA44' 'perirhinal' 'MT' 'BA45' 'BA6' 'V2' 'BA2' 'BA3b' 'BA1']\n",
      "['MT' 'V2' 'V1' 'BA2' 'BA1' 'BA44' 'BA45' 'BA3b' 'BA6' 'BA4a' 'BA4p'\n",
      " 'BA3a' 'perirhinal']\n",
      "['MT' 'perirhinal' 'BA44' 'BA6' 'BA45' 'BA3a' 'BA2' 'V2' 'BA4a' 'BA3b'\n",
      " 'BA1']\n",
      "['MT' 'V2' 'perirhinal' 'V1' 'BA44' 'BA45' 'BA3b' 'BA6' 'BA2' 'BA1']\n"
     ]
    }
   ],
   "source": [
    "for i in range(0,9):\n",
    "    subpath = Path('~','projects','CIFAR','data_bids', f'sub-0{i}' ).expanduser()\n",
    "    elecinfo = subpath.joinpath('anat','electrodes_info.csv')\n",
    "    dfelec = pd.read_csv(elecinfo)\n",
    "    ROIs = dfelec['Brodman'].unique()\n",
    "    nROIs = len(ROIs)\n",
    "    print(ROIs)"
   ]
  },
  {
   "cell_type": "code",
   "execution_count": 66,
   "metadata": {},
   "outputs": [
    {
     "data": {
      "text/plain": [
       "8"
      ]
     },
     "execution_count": 66,
     "metadata": {},
     "output_type": "execute_result"
    }
   ],
   "source": [
    "len(dfelec['isdepth'].loc[dfelec['Brodman']=='V2'].loc[dfelec['isdepth']==0])"
   ]
  },
  {
   "cell_type": "code",
   "execution_count": 53,
   "metadata": {},
   "outputs": [
    {
     "data": {
      "text/plain": [
       "[]"
      ]
     },
     "execution_count": 53,
     "metadata": {},
     "output_type": "execute_result"
    }
   ],
   "source": [
    "ROI_info = {'Brodman': [], 'ndepth': [], 'nGrid/strip': []}\n",
    "ROI_info['Brodman']"
   ]
  },
  {
   "cell_type": "code",
   "execution_count": 122,
   "metadata": {},
   "outputs": [],
   "source": [
    "for ROI in ROIs: \n",
    "    ROI_info['Brodman'].append(ROI)\n",
    "    ROI_info['ndepth'].append(len(dfelec['isdepth'].loc[dfelec['Brodman']==ROI].loc[dfelec['isdepth']==1]))\n",
    "    ROI_info['nsurface'].append(len(dfelec['isdepth'].loc[dfelec['Brodman']==ROI].loc[dfelec['isdepth']==0]))\n",
    "    ROI_info['n_lh'].append(len(dfelec['hemisphere'].loc[dfelec['Brodman']==ROI].loc[dfelec['hemisphere']=='lh']))\n",
    "    ROI_info['n_rh'].append(len(dfelec['hemisphere'].loc[dfelec['Brodman']==ROI].loc[dfelec['hemisphere']=='rh']))"
   ]
  },
  {
   "cell_type": "code",
   "execution_count": 138,
   "metadata": {},
   "outputs": [],
   "source": [
    "#Per subjects\n",
    "column_names = ['Brodman', 'ndepth', 'nsurface', 'n_lh', 'n_rh']\n",
    "dfsub = pd.DataFrame(columns = column_names)\n",
    "for i in range(0,9):\n",
    "    subpath = Path('~','projects','CIFAR','data_bids', f'sub-0{i}' ).expanduser()\n",
    "    elecinfo = subpath.joinpath('anat','electrodes_info.csv')\n",
    "    dfelec = pd.read_csv(elecinfo)\n",
    "    ROIs = dfelec['Brodman'].unique()\n",
    "    nROIs = len(ROIs)\n",
    "    ROI_info = {'Brodman': [], 'ndepth': [], 'nsurface': [], 'n_lh': [], 'n_rh': []}\n",
    "    for ROI in ROIs: \n",
    "        ROI_info['Brodman'].append(ROI)\n",
    "        ROI_info['ndepth'].append(len(dfelec['isdepth'].loc[dfelec['Brodman']==ROI].loc[dfelec['isdepth']==1]))\n",
    "        ROI_info['nsurface'].append(len(dfelec['isdepth'].loc[dfelec['Brodman']==ROI].loc[dfelec['isdepth']==0]))\n",
    "        ROI_info['n_lh'].append(len(dfelec['hemisphere'].loc[dfelec['Brodman']==ROI].loc[dfelec['hemisphere']=='lh']))\n",
    "        ROI_info['n_rh'].append(len(dfelec['hemisphere'].loc[dfelec['Brodman']==ROI].loc[dfelec['hemisphere']=='rh']))\n",
    "    dfROI_info = pd.DataFrame(data=ROI_info)\n",
    "    dfsub = pd.concat([dfsub, dfROI_info])"
   ]
  },
  {
   "cell_type": "code",
   "execution_count": 161,
   "metadata": {},
   "outputs": [
    {
     "data": {
      "application/vnd.dataresource+json": {
       "data": [
        {
         "Brodman": "BA2",
         "index": 0,
         "n_lh": 0,
         "n_rh": 17,
         "ndepth": 0,
         "nsurface": 17
        },
        {
         "Brodman": "MT",
         "index": 1,
         "n_lh": 0,
         "n_rh": 25,
         "ndepth": 1,
         "nsurface": 24
        },
        {
         "Brodman": "V2",
         "index": 2,
         "n_lh": 5,
         "n_rh": 42,
         "ndepth": 10,
         "nsurface": 37
        },
        {
         "Brodman": "BA1",
         "index": 3,
         "n_lh": 0,
         "n_rh": 8,
         "ndepth": 0,
         "nsurface": 8
        },
        {
         "Brodman": "V1",
         "index": 4,
         "n_lh": 0,
         "n_rh": 4,
         "ndepth": 0,
         "nsurface": 4
        },
        {
         "Brodman": "BA3b",
         "index": 5,
         "n_lh": 0,
         "n_rh": 1,
         "ndepth": 0,
         "nsurface": 1
        },
        {
         "Brodman": "BA6",
         "index": 6,
         "n_lh": 1,
         "n_rh": 1,
         "ndepth": 0,
         "nsurface": 2
        },
        {
         "Brodman": "BA44",
         "index": 7,
         "n_lh": 0,
         "n_rh": 3,
         "ndepth": 0,
         "nsurface": 3
        },
        {
         "Brodman": "BA45",
         "index": 8,
         "n_lh": 0,
         "n_rh": 2,
         "ndepth": 0,
         "nsurface": 2
        },
        {
         "Brodman": "BA4a",
         "index": 9,
         "n_lh": 2,
         "n_rh": 0,
         "ndepth": 0,
         "nsurface": 2
        },
        {
         "Brodman": "perirhinal",
         "index": 10,
         "n_lh": 0,
         "n_rh": 17,
         "ndepth": 17,
         "nsurface": 0
        },
        {
         "Brodman": "BA45",
         "index": 0,
         "n_lh": 0,
         "n_rh": 9,
         "ndepth": 0,
         "nsurface": 9
        },
        {
         "Brodman": "perirhinal",
         "index": 1,
         "n_lh": 0,
         "n_rh": 33,
         "ndepth": 15,
         "nsurface": 18
        },
        {
         "Brodman": "BA44",
         "index": 2,
         "n_lh": 0,
         "n_rh": 26,
         "ndepth": 5,
         "nsurface": 21
        },
        {
         "Brodman": "MT",
         "index": 3,
         "n_lh": 0,
         "n_rh": 16,
         "ndepth": 0,
         "nsurface": 16
        },
        {
         "Brodman": "V2",
         "index": 4,
         "n_lh": 0,
         "n_rh": 13,
         "ndepth": 0,
         "nsurface": 13
        },
        {
         "Brodman": "V1",
         "index": 5,
         "n_lh": 0,
         "n_rh": 5,
         "ndepth": 0,
         "nsurface": 5
        },
        {
         "Brodman": "BA3a",
         "index": 6,
         "n_lh": 0,
         "n_rh": 4,
         "ndepth": 0,
         "nsurface": 4
        },
        {
         "Brodman": "BA1",
         "index": 0,
         "n_lh": 27,
         "n_rh": 0,
         "ndepth": 0,
         "nsurface": 27
        },
        {
         "Brodman": "BA2",
         "index": 1,
         "n_lh": 43,
         "n_rh": 0,
         "ndepth": 0,
         "nsurface": 43
        },
        {
         "Brodman": "BA3b",
         "index": 2,
         "n_lh": 45,
         "n_rh": 0,
         "ndepth": 0,
         "nsurface": 45
        },
        {
         "Brodman": "perirhinal",
         "index": 3,
         "n_lh": 45,
         "n_rh": 0,
         "ndepth": 18,
         "nsurface": 27
        },
        {
         "Brodman": "BA6",
         "index": 4,
         "n_lh": 36,
         "n_rh": 0,
         "ndepth": 0,
         "nsurface": 36
        },
        {
         "Brodman": "BA44",
         "index": 5,
         "n_lh": 86,
         "n_rh": 0,
         "ndepth": 0,
         "nsurface": 86
        },
        {
         "Brodman": "BA45",
         "index": 6,
         "n_lh": 74,
         "n_rh": 0,
         "ndepth": 0,
         "nsurface": 74
        },
        {
         "Brodman": "V2",
         "index": 7,
         "n_lh": 6,
         "n_rh": 0,
         "ndepth": 0,
         "nsurface": 6
        },
        {
         "Brodman": "MT",
         "index": 8,
         "n_lh": 20,
         "n_rh": 0,
         "ndepth": 11,
         "nsurface": 9
        },
        {
         "Brodman": "BA3a",
         "index": 9,
         "n_lh": 3,
         "n_rh": 0,
         "ndepth": 0,
         "nsurface": 3
        },
        {
         "Brodman": "MT",
         "index": 0,
         "n_lh": 17,
         "n_rh": 0,
         "ndepth": 0,
         "nsurface": 17
        },
        {
         "Brodman": "V2",
         "index": 1,
         "n_lh": 10,
         "n_rh": 0,
         "ndepth": 0,
         "nsurface": 10
        },
        {
         "Brodman": "BA2",
         "index": 2,
         "n_lh": 19,
         "n_rh": 0,
         "ndepth": 3,
         "nsurface": 16
        },
        {
         "Brodman": "BA6",
         "index": 3,
         "n_lh": 21,
         "n_rh": 0,
         "ndepth": 10,
         "nsurface": 11
        },
        {
         "Brodman": "perirhinal",
         "index": 4,
         "n_lh": 43,
         "n_rh": 3,
         "ndepth": 16,
         "nsurface": 30
        },
        {
         "Brodman": "BA45",
         "index": 5,
         "n_lh": 18,
         "n_rh": 2,
         "ndepth": 0,
         "nsurface": 20
        },
        {
         "Brodman": "BA44",
         "index": 6,
         "n_lh": 22,
         "n_rh": 0,
         "ndepth": 1,
         "nsurface": 21
        },
        {
         "Brodman": "BA3b",
         "index": 7,
         "n_lh": 5,
         "n_rh": 0,
         "ndepth": 0,
         "nsurface": 5
        },
        {
         "Brodman": "BA2",
         "index": 0,
         "n_lh": 12,
         "n_rh": 0,
         "ndepth": 0,
         "nsurface": 12
        },
        {
         "Brodman": "BA3b",
         "index": 1,
         "n_lh": 20,
         "n_rh": 0,
         "ndepth": 0,
         "nsurface": 20
        },
        {
         "Brodman": "BA6",
         "index": 2,
         "n_lh": 12,
         "n_rh": 3,
         "ndepth": 0,
         "nsurface": 15
        },
        {
         "Brodman": "MT",
         "index": 3,
         "n_lh": 15,
         "n_rh": 0,
         "ndepth": 0,
         "nsurface": 15
        },
        {
         "Brodman": "BA1",
         "index": 4,
         "n_lh": 2,
         "n_rh": 0,
         "ndepth": 0,
         "nsurface": 2
        },
        {
         "Brodman": "BA4a",
         "index": 5,
         "n_lh": 1,
         "n_rh": 0,
         "ndepth": 0,
         "nsurface": 1
        },
        {
         "Brodman": "BA3a",
         "index": 6,
         "n_lh": 1,
         "n_rh": 0,
         "ndepth": 0,
         "nsurface": 1
        },
        {
         "Brodman": "BA45",
         "index": 7,
         "n_lh": 14,
         "n_rh": 1,
         "ndepth": 0,
         "nsurface": 15
        },
        {
         "Brodman": "BA44",
         "index": 8,
         "n_lh": 20,
         "n_rh": 0,
         "ndepth": 0,
         "nsurface": 20
        },
        {
         "Brodman": "perirhinal",
         "index": 9,
         "n_lh": 31,
         "n_rh": 0,
         "ndepth": 0,
         "nsurface": 31
        },
        {
         "Brodman": "V2",
         "index": 10,
         "n_lh": 12,
         "n_rh": 0,
         "ndepth": 0,
         "nsurface": 12
        },
        {
         "Brodman": "V1",
         "index": 11,
         "n_lh": 2,
         "n_rh": 0,
         "ndepth": 0,
         "nsurface": 2
        },
        {
         "Brodman": "BA3a",
         "index": 0,
         "n_lh": 4,
         "n_rh": 4,
         "ndepth": 3,
         "nsurface": 5
        },
        {
         "Brodman": "BA44",
         "index": 1,
         "n_lh": 12,
         "n_rh": 32,
         "ndepth": 9,
         "nsurface": 35
        },
        {
         "Brodman": "perirhinal",
         "index": 2,
         "n_lh": 33,
         "n_rh": 19,
         "ndepth": 27,
         "nsurface": 25
        },
        {
         "Brodman": "MT",
         "index": 3,
         "n_lh": 11,
         "n_rh": 5,
         "ndepth": 4,
         "nsurface": 12
        },
        {
         "Brodman": "BA45",
         "index": 4,
         "n_lh": 43,
         "n_rh": 9,
         "ndepth": 0,
         "nsurface": 52
        },
        {
         "Brodman": "BA6",
         "index": 5,
         "n_lh": 41,
         "n_rh": 1,
         "ndepth": 0,
         "nsurface": 42
        },
        {
         "Brodman": "V2",
         "index": 6,
         "n_lh": 5,
         "n_rh": 0,
         "ndepth": 0,
         "nsurface": 5
        },
        {
         "Brodman": "BA2",
         "index": 7,
         "n_lh": 16,
         "n_rh": 0,
         "ndepth": 1,
         "nsurface": 15
        },
        {
         "Brodman": "BA3b",
         "index": 8,
         "n_lh": 30,
         "n_rh": 0,
         "ndepth": 7,
         "nsurface": 23
        },
        {
         "Brodman": "BA1",
         "index": 9,
         "n_lh": 5,
         "n_rh": 0,
         "ndepth": 0,
         "nsurface": 5
        },
        {
         "Brodman": "MT",
         "index": 0,
         "n_lh": 0,
         "n_rh": 2,
         "ndepth": 0,
         "nsurface": 2
        },
        {
         "Brodman": "V2",
         "index": 1,
         "n_lh": 0,
         "n_rh": 21,
         "ndepth": 0,
         "nsurface": 21
        },
        {
         "Brodman": "V1",
         "index": 2,
         "n_lh": 0,
         "n_rh": 7,
         "ndepth": 0,
         "nsurface": 7
        },
        {
         "Brodman": "BA2",
         "index": 3,
         "n_lh": 0,
         "n_rh": 33,
         "ndepth": 0,
         "nsurface": 33
        },
        {
         "Brodman": "BA1",
         "index": 4,
         "n_lh": 0,
         "n_rh": 48,
         "ndepth": 5,
         "nsurface": 43
        },
        {
         "Brodman": "BA44",
         "index": 5,
         "n_lh": 0,
         "n_rh": 8,
         "ndepth": 0,
         "nsurface": 8
        },
        {
         "Brodman": "BA45",
         "index": 6,
         "n_lh": 0,
         "n_rh": 7,
         "ndepth": 0,
         "nsurface": 7
        },
        {
         "Brodman": "BA3b",
         "index": 7,
         "n_lh": 0,
         "n_rh": 3,
         "ndepth": 0,
         "nsurface": 3
        },
        {
         "Brodman": "BA6",
         "index": 8,
         "n_lh": 0,
         "n_rh": 1,
         "ndepth": 0,
         "nsurface": 1
        },
        {
         "Brodman": "BA4a",
         "index": 9,
         "n_lh": 0,
         "n_rh": 1,
         "ndepth": 0,
         "nsurface": 1
        },
        {
         "Brodman": "BA4p",
         "index": 10,
         "n_lh": 0,
         "n_rh": 5,
         "ndepth": 0,
         "nsurface": 5
        },
        {
         "Brodman": "BA3a",
         "index": 11,
         "n_lh": 0,
         "n_rh": 2,
         "ndepth": 0,
         "nsurface": 2
        },
        {
         "Brodman": "perirhinal",
         "index": 12,
         "n_lh": 0,
         "n_rh": 8,
         "ndepth": 4,
         "nsurface": 4
        },
        {
         "Brodman": "MT",
         "index": 0,
         "n_lh": 6,
         "n_rh": 15,
         "ndepth": 0,
         "nsurface": 21
        },
        {
         "Brodman": "perirhinal",
         "index": 1,
         "n_lh": 38,
         "n_rh": 32,
         "ndepth": 31,
         "nsurface": 39
        },
        {
         "Brodman": "BA44",
         "index": 2,
         "n_lh": 21,
         "n_rh": 26,
         "ndepth": 17,
         "nsurface": 30
        },
        {
         "Brodman": "BA6",
         "index": 3,
         "n_lh": 9,
         "n_rh": 5,
         "ndepth": 0,
         "nsurface": 14
        },
        {
         "Brodman": "BA45",
         "index": 4,
         "n_lh": 41,
         "n_rh": 45,
         "ndepth": 0,
         "nsurface": 86
        },
        {
         "Brodman": "BA3a",
         "index": 5,
         "n_lh": 1,
         "n_rh": 1,
         "ndepth": 1,
         "nsurface": 1
        },
        {
         "Brodman": "BA2",
         "index": 6,
         "n_lh": 13,
         "n_rh": 2,
         "ndepth": 0,
         "nsurface": 15
        },
        {
         "Brodman": "V2",
         "index": 7,
         "n_lh": 0,
         "n_rh": 1,
         "ndepth": 0,
         "nsurface": 1
        },
        {
         "Brodman": "BA4a",
         "index": 8,
         "n_lh": 4,
         "n_rh": 4,
         "ndepth": 0,
         "nsurface": 8
        },
        {
         "Brodman": "BA3b",
         "index": 9,
         "n_lh": 10,
         "n_rh": 2,
         "ndepth": 0,
         "nsurface": 12
        },
        {
         "Brodman": "BA1",
         "index": 10,
         "n_lh": 4,
         "n_rh": 7,
         "ndepth": 1,
         "nsurface": 10
        },
        {
         "Brodman": "MT",
         "index": 0,
         "n_lh": 23,
         "n_rh": 0,
         "ndepth": 0,
         "nsurface": 23
        },
        {
         "Brodman": "V2",
         "index": 1,
         "n_lh": 8,
         "n_rh": 0,
         "ndepth": 0,
         "nsurface": 8
        },
        {
         "Brodman": "perirhinal",
         "index": 2,
         "n_lh": 70,
         "n_rh": 0,
         "ndepth": 0,
         "nsurface": 70
        },
        {
         "Brodman": "V1",
         "index": 3,
         "n_lh": 1,
         "n_rh": 0,
         "ndepth": 0,
         "nsurface": 1
        },
        {
         "Brodman": "BA44",
         "index": 4,
         "n_lh": 34,
         "n_rh": 0,
         "ndepth": 0,
         "nsurface": 34
        },
        {
         "Brodman": "BA45",
         "index": 5,
         "n_lh": 6,
         "n_rh": 0,
         "ndepth": 0,
         "nsurface": 6
        },
        {
         "Brodman": "BA3b",
         "index": 6,
         "n_lh": 16,
         "n_rh": 0,
         "ndepth": 0,
         "nsurface": 16
        },
        {
         "Brodman": "BA6",
         "index": 7,
         "n_lh": 1,
         "n_rh": 0,
         "ndepth": 0,
         "nsurface": 1
        },
        {
         "Brodman": "BA2",
         "index": 8,
         "n_lh": 22,
         "n_rh": 0,
         "ndepth": 0,
         "nsurface": 22
        },
        {
         "Brodman": "BA1",
         "index": 9,
         "n_lh": 7,
         "n_rh": 0,
         "ndepth": 0,
         "nsurface": 7
        }
       ],
       "schema": {
        "fields": [
         {
          "name": "index",
          "type": "integer"
         },
         {
          "name": "Brodman",
          "type": "string"
         },
         {
          "name": "ndepth",
          "type": "string"
         },
         {
          "name": "nsurface",
          "type": "string"
         },
         {
          "name": "n_lh",
          "type": "string"
         },
         {
          "name": "n_rh",
          "type": "string"
         }
        ],
        "pandas_version": "0.20.0"
       }
      },
      "text/html": [
       "<div>\n",
       "<style scoped>\n",
       "    .dataframe tbody tr th:only-of-type {\n",
       "        vertical-align: middle;\n",
       "    }\n",
       "\n",
       "    .dataframe tbody tr th {\n",
       "        vertical-align: top;\n",
       "    }\n",
       "\n",
       "    .dataframe thead th {\n",
       "        text-align: right;\n",
       "    }\n",
       "</style>\n",
       "<table border=\"1\" class=\"dataframe\">\n",
       "  <thead>\n",
       "    <tr style=\"text-align: right;\">\n",
       "      <th></th>\n",
       "      <th>Brodman</th>\n",
       "      <th>ndepth</th>\n",
       "      <th>nsurface</th>\n",
       "      <th>n_lh</th>\n",
       "      <th>n_rh</th>\n",
       "    </tr>\n",
       "  </thead>\n",
       "  <tbody>\n",
       "    <tr>\n",
       "      <th>0</th>\n",
       "      <td>BA2</td>\n",
       "      <td>0</td>\n",
       "      <td>17</td>\n",
       "      <td>0</td>\n",
       "      <td>17</td>\n",
       "    </tr>\n",
       "    <tr>\n",
       "      <th>1</th>\n",
       "      <td>MT</td>\n",
       "      <td>1</td>\n",
       "      <td>24</td>\n",
       "      <td>0</td>\n",
       "      <td>25</td>\n",
       "    </tr>\n",
       "    <tr>\n",
       "      <th>2</th>\n",
       "      <td>V2</td>\n",
       "      <td>10</td>\n",
       "      <td>37</td>\n",
       "      <td>5</td>\n",
       "      <td>42</td>\n",
       "    </tr>\n",
       "    <tr>\n",
       "      <th>3</th>\n",
       "      <td>BA1</td>\n",
       "      <td>0</td>\n",
       "      <td>8</td>\n",
       "      <td>0</td>\n",
       "      <td>8</td>\n",
       "    </tr>\n",
       "    <tr>\n",
       "      <th>4</th>\n",
       "      <td>V1</td>\n",
       "      <td>0</td>\n",
       "      <td>4</td>\n",
       "      <td>0</td>\n",
       "      <td>4</td>\n",
       "    </tr>\n",
       "    <tr>\n",
       "      <th>5</th>\n",
       "      <td>BA3b</td>\n",
       "      <td>0</td>\n",
       "      <td>1</td>\n",
       "      <td>0</td>\n",
       "      <td>1</td>\n",
       "    </tr>\n",
       "    <tr>\n",
       "      <th>6</th>\n",
       "      <td>BA6</td>\n",
       "      <td>0</td>\n",
       "      <td>2</td>\n",
       "      <td>1</td>\n",
       "      <td>1</td>\n",
       "    </tr>\n",
       "    <tr>\n",
       "      <th>7</th>\n",
       "      <td>BA44</td>\n",
       "      <td>0</td>\n",
       "      <td>3</td>\n",
       "      <td>0</td>\n",
       "      <td>3</td>\n",
       "    </tr>\n",
       "    <tr>\n",
       "      <th>8</th>\n",
       "      <td>BA45</td>\n",
       "      <td>0</td>\n",
       "      <td>2</td>\n",
       "      <td>0</td>\n",
       "      <td>2</td>\n",
       "    </tr>\n",
       "    <tr>\n",
       "      <th>9</th>\n",
       "      <td>BA4a</td>\n",
       "      <td>0</td>\n",
       "      <td>2</td>\n",
       "      <td>2</td>\n",
       "      <td>0</td>\n",
       "    </tr>\n",
       "    <tr>\n",
       "      <th>10</th>\n",
       "      <td>perirhinal</td>\n",
       "      <td>17</td>\n",
       "      <td>0</td>\n",
       "      <td>0</td>\n",
       "      <td>17</td>\n",
       "    </tr>\n",
       "    <tr>\n",
       "      <th>0</th>\n",
       "      <td>BA45</td>\n",
       "      <td>0</td>\n",
       "      <td>9</td>\n",
       "      <td>0</td>\n",
       "      <td>9</td>\n",
       "    </tr>\n",
       "    <tr>\n",
       "      <th>1</th>\n",
       "      <td>perirhinal</td>\n",
       "      <td>15</td>\n",
       "      <td>18</td>\n",
       "      <td>0</td>\n",
       "      <td>33</td>\n",
       "    </tr>\n",
       "    <tr>\n",
       "      <th>2</th>\n",
       "      <td>BA44</td>\n",
       "      <td>5</td>\n",
       "      <td>21</td>\n",
       "      <td>0</td>\n",
       "      <td>26</td>\n",
       "    </tr>\n",
       "    <tr>\n",
       "      <th>3</th>\n",
       "      <td>MT</td>\n",
       "      <td>0</td>\n",
       "      <td>16</td>\n",
       "      <td>0</td>\n",
       "      <td>16</td>\n",
       "    </tr>\n",
       "    <tr>\n",
       "      <th>4</th>\n",
       "      <td>V2</td>\n",
       "      <td>0</td>\n",
       "      <td>13</td>\n",
       "      <td>0</td>\n",
       "      <td>13</td>\n",
       "    </tr>\n",
       "    <tr>\n",
       "      <th>5</th>\n",
       "      <td>V1</td>\n",
       "      <td>0</td>\n",
       "      <td>5</td>\n",
       "      <td>0</td>\n",
       "      <td>5</td>\n",
       "    </tr>\n",
       "    <tr>\n",
       "      <th>6</th>\n",
       "      <td>BA3a</td>\n",
       "      <td>0</td>\n",
       "      <td>4</td>\n",
       "      <td>0</td>\n",
       "      <td>4</td>\n",
       "    </tr>\n",
       "    <tr>\n",
       "      <th>0</th>\n",
       "      <td>BA1</td>\n",
       "      <td>0</td>\n",
       "      <td>27</td>\n",
       "      <td>27</td>\n",
       "      <td>0</td>\n",
       "    </tr>\n",
       "    <tr>\n",
       "      <th>1</th>\n",
       "      <td>BA2</td>\n",
       "      <td>0</td>\n",
       "      <td>43</td>\n",
       "      <td>43</td>\n",
       "      <td>0</td>\n",
       "    </tr>\n",
       "    <tr>\n",
       "      <th>2</th>\n",
       "      <td>BA3b</td>\n",
       "      <td>0</td>\n",
       "      <td>45</td>\n",
       "      <td>45</td>\n",
       "      <td>0</td>\n",
       "    </tr>\n",
       "    <tr>\n",
       "      <th>3</th>\n",
       "      <td>perirhinal</td>\n",
       "      <td>18</td>\n",
       "      <td>27</td>\n",
       "      <td>45</td>\n",
       "      <td>0</td>\n",
       "    </tr>\n",
       "    <tr>\n",
       "      <th>4</th>\n",
       "      <td>BA6</td>\n",
       "      <td>0</td>\n",
       "      <td>36</td>\n",
       "      <td>36</td>\n",
       "      <td>0</td>\n",
       "    </tr>\n",
       "    <tr>\n",
       "      <th>5</th>\n",
       "      <td>BA44</td>\n",
       "      <td>0</td>\n",
       "      <td>86</td>\n",
       "      <td>86</td>\n",
       "      <td>0</td>\n",
       "    </tr>\n",
       "    <tr>\n",
       "      <th>6</th>\n",
       "      <td>BA45</td>\n",
       "      <td>0</td>\n",
       "      <td>74</td>\n",
       "      <td>74</td>\n",
       "      <td>0</td>\n",
       "    </tr>\n",
       "    <tr>\n",
       "      <th>7</th>\n",
       "      <td>V2</td>\n",
       "      <td>0</td>\n",
       "      <td>6</td>\n",
       "      <td>6</td>\n",
       "      <td>0</td>\n",
       "    </tr>\n",
       "    <tr>\n",
       "      <th>8</th>\n",
       "      <td>MT</td>\n",
       "      <td>11</td>\n",
       "      <td>9</td>\n",
       "      <td>20</td>\n",
       "      <td>0</td>\n",
       "    </tr>\n",
       "    <tr>\n",
       "      <th>9</th>\n",
       "      <td>BA3a</td>\n",
       "      <td>0</td>\n",
       "      <td>3</td>\n",
       "      <td>3</td>\n",
       "      <td>0</td>\n",
       "    </tr>\n",
       "    <tr>\n",
       "      <th>0</th>\n",
       "      <td>MT</td>\n",
       "      <td>0</td>\n",
       "      <td>17</td>\n",
       "      <td>17</td>\n",
       "      <td>0</td>\n",
       "    </tr>\n",
       "    <tr>\n",
       "      <th>1</th>\n",
       "      <td>V2</td>\n",
       "      <td>0</td>\n",
       "      <td>10</td>\n",
       "      <td>10</td>\n",
       "      <td>0</td>\n",
       "    </tr>\n",
       "    <tr>\n",
       "      <th>2</th>\n",
       "      <td>BA2</td>\n",
       "      <td>3</td>\n",
       "      <td>16</td>\n",
       "      <td>19</td>\n",
       "      <td>0</td>\n",
       "    </tr>\n",
       "    <tr>\n",
       "      <th>3</th>\n",
       "      <td>BA6</td>\n",
       "      <td>10</td>\n",
       "      <td>11</td>\n",
       "      <td>21</td>\n",
       "      <td>0</td>\n",
       "    </tr>\n",
       "    <tr>\n",
       "      <th>4</th>\n",
       "      <td>perirhinal</td>\n",
       "      <td>16</td>\n",
       "      <td>30</td>\n",
       "      <td>43</td>\n",
       "      <td>3</td>\n",
       "    </tr>\n",
       "    <tr>\n",
       "      <th>5</th>\n",
       "      <td>BA45</td>\n",
       "      <td>0</td>\n",
       "      <td>20</td>\n",
       "      <td>18</td>\n",
       "      <td>2</td>\n",
       "    </tr>\n",
       "    <tr>\n",
       "      <th>6</th>\n",
       "      <td>BA44</td>\n",
       "      <td>1</td>\n",
       "      <td>21</td>\n",
       "      <td>22</td>\n",
       "      <td>0</td>\n",
       "    </tr>\n",
       "    <tr>\n",
       "      <th>7</th>\n",
       "      <td>BA3b</td>\n",
       "      <td>0</td>\n",
       "      <td>5</td>\n",
       "      <td>5</td>\n",
       "      <td>0</td>\n",
       "    </tr>\n",
       "    <tr>\n",
       "      <th>0</th>\n",
       "      <td>BA2</td>\n",
       "      <td>0</td>\n",
       "      <td>12</td>\n",
       "      <td>12</td>\n",
       "      <td>0</td>\n",
       "    </tr>\n",
       "    <tr>\n",
       "      <th>1</th>\n",
       "      <td>BA3b</td>\n",
       "      <td>0</td>\n",
       "      <td>20</td>\n",
       "      <td>20</td>\n",
       "      <td>0</td>\n",
       "    </tr>\n",
       "    <tr>\n",
       "      <th>2</th>\n",
       "      <td>BA6</td>\n",
       "      <td>0</td>\n",
       "      <td>15</td>\n",
       "      <td>12</td>\n",
       "      <td>3</td>\n",
       "    </tr>\n",
       "    <tr>\n",
       "      <th>3</th>\n",
       "      <td>MT</td>\n",
       "      <td>0</td>\n",
       "      <td>15</td>\n",
       "      <td>15</td>\n",
       "      <td>0</td>\n",
       "    </tr>\n",
       "    <tr>\n",
       "      <th>4</th>\n",
       "      <td>BA1</td>\n",
       "      <td>0</td>\n",
       "      <td>2</td>\n",
       "      <td>2</td>\n",
       "      <td>0</td>\n",
       "    </tr>\n",
       "    <tr>\n",
       "      <th>5</th>\n",
       "      <td>BA4a</td>\n",
       "      <td>0</td>\n",
       "      <td>1</td>\n",
       "      <td>1</td>\n",
       "      <td>0</td>\n",
       "    </tr>\n",
       "    <tr>\n",
       "      <th>6</th>\n",
       "      <td>BA3a</td>\n",
       "      <td>0</td>\n",
       "      <td>1</td>\n",
       "      <td>1</td>\n",
       "      <td>0</td>\n",
       "    </tr>\n",
       "    <tr>\n",
       "      <th>7</th>\n",
       "      <td>BA45</td>\n",
       "      <td>0</td>\n",
       "      <td>15</td>\n",
       "      <td>14</td>\n",
       "      <td>1</td>\n",
       "    </tr>\n",
       "    <tr>\n",
       "      <th>8</th>\n",
       "      <td>BA44</td>\n",
       "      <td>0</td>\n",
       "      <td>20</td>\n",
       "      <td>20</td>\n",
       "      <td>0</td>\n",
       "    </tr>\n",
       "    <tr>\n",
       "      <th>9</th>\n",
       "      <td>perirhinal</td>\n",
       "      <td>0</td>\n",
       "      <td>31</td>\n",
       "      <td>31</td>\n",
       "      <td>0</td>\n",
       "    </tr>\n",
       "    <tr>\n",
       "      <th>10</th>\n",
       "      <td>V2</td>\n",
       "      <td>0</td>\n",
       "      <td>12</td>\n",
       "      <td>12</td>\n",
       "      <td>0</td>\n",
       "    </tr>\n",
       "    <tr>\n",
       "      <th>11</th>\n",
       "      <td>V1</td>\n",
       "      <td>0</td>\n",
       "      <td>2</td>\n",
       "      <td>2</td>\n",
       "      <td>0</td>\n",
       "    </tr>\n",
       "    <tr>\n",
       "      <th>0</th>\n",
       "      <td>BA3a</td>\n",
       "      <td>3</td>\n",
       "      <td>5</td>\n",
       "      <td>4</td>\n",
       "      <td>4</td>\n",
       "    </tr>\n",
       "    <tr>\n",
       "      <th>1</th>\n",
       "      <td>BA44</td>\n",
       "      <td>9</td>\n",
       "      <td>35</td>\n",
       "      <td>12</td>\n",
       "      <td>32</td>\n",
       "    </tr>\n",
       "    <tr>\n",
       "      <th>2</th>\n",
       "      <td>perirhinal</td>\n",
       "      <td>27</td>\n",
       "      <td>25</td>\n",
       "      <td>33</td>\n",
       "      <td>19</td>\n",
       "    </tr>\n",
       "    <tr>\n",
       "      <th>3</th>\n",
       "      <td>MT</td>\n",
       "      <td>4</td>\n",
       "      <td>12</td>\n",
       "      <td>11</td>\n",
       "      <td>5</td>\n",
       "    </tr>\n",
       "    <tr>\n",
       "      <th>4</th>\n",
       "      <td>BA45</td>\n",
       "      <td>0</td>\n",
       "      <td>52</td>\n",
       "      <td>43</td>\n",
       "      <td>9</td>\n",
       "    </tr>\n",
       "    <tr>\n",
       "      <th>5</th>\n",
       "      <td>BA6</td>\n",
       "      <td>0</td>\n",
       "      <td>42</td>\n",
       "      <td>41</td>\n",
       "      <td>1</td>\n",
       "    </tr>\n",
       "    <tr>\n",
       "      <th>6</th>\n",
       "      <td>V2</td>\n",
       "      <td>0</td>\n",
       "      <td>5</td>\n",
       "      <td>5</td>\n",
       "      <td>0</td>\n",
       "    </tr>\n",
       "    <tr>\n",
       "      <th>7</th>\n",
       "      <td>BA2</td>\n",
       "      <td>1</td>\n",
       "      <td>15</td>\n",
       "      <td>16</td>\n",
       "      <td>0</td>\n",
       "    </tr>\n",
       "    <tr>\n",
       "      <th>8</th>\n",
       "      <td>BA3b</td>\n",
       "      <td>7</td>\n",
       "      <td>23</td>\n",
       "      <td>30</td>\n",
       "      <td>0</td>\n",
       "    </tr>\n",
       "    <tr>\n",
       "      <th>9</th>\n",
       "      <td>BA1</td>\n",
       "      <td>0</td>\n",
       "      <td>5</td>\n",
       "      <td>5</td>\n",
       "      <td>0</td>\n",
       "    </tr>\n",
       "    <tr>\n",
       "      <th>0</th>\n",
       "      <td>MT</td>\n",
       "      <td>0</td>\n",
       "      <td>2</td>\n",
       "      <td>0</td>\n",
       "      <td>2</td>\n",
       "    </tr>\n",
       "    <tr>\n",
       "      <th>1</th>\n",
       "      <td>V2</td>\n",
       "      <td>0</td>\n",
       "      <td>21</td>\n",
       "      <td>0</td>\n",
       "      <td>21</td>\n",
       "    </tr>\n",
       "    <tr>\n",
       "      <th>2</th>\n",
       "      <td>V1</td>\n",
       "      <td>0</td>\n",
       "      <td>7</td>\n",
       "      <td>0</td>\n",
       "      <td>7</td>\n",
       "    </tr>\n",
       "    <tr>\n",
       "      <th>3</th>\n",
       "      <td>BA2</td>\n",
       "      <td>0</td>\n",
       "      <td>33</td>\n",
       "      <td>0</td>\n",
       "      <td>33</td>\n",
       "    </tr>\n",
       "    <tr>\n",
       "      <th>4</th>\n",
       "      <td>BA1</td>\n",
       "      <td>5</td>\n",
       "      <td>43</td>\n",
       "      <td>0</td>\n",
       "      <td>48</td>\n",
       "    </tr>\n",
       "    <tr>\n",
       "      <th>5</th>\n",
       "      <td>BA44</td>\n",
       "      <td>0</td>\n",
       "      <td>8</td>\n",
       "      <td>0</td>\n",
       "      <td>8</td>\n",
       "    </tr>\n",
       "    <tr>\n",
       "      <th>6</th>\n",
       "      <td>BA45</td>\n",
       "      <td>0</td>\n",
       "      <td>7</td>\n",
       "      <td>0</td>\n",
       "      <td>7</td>\n",
       "    </tr>\n",
       "    <tr>\n",
       "      <th>7</th>\n",
       "      <td>BA3b</td>\n",
       "      <td>0</td>\n",
       "      <td>3</td>\n",
       "      <td>0</td>\n",
       "      <td>3</td>\n",
       "    </tr>\n",
       "    <tr>\n",
       "      <th>8</th>\n",
       "      <td>BA6</td>\n",
       "      <td>0</td>\n",
       "      <td>1</td>\n",
       "      <td>0</td>\n",
       "      <td>1</td>\n",
       "    </tr>\n",
       "    <tr>\n",
       "      <th>9</th>\n",
       "      <td>BA4a</td>\n",
       "      <td>0</td>\n",
       "      <td>1</td>\n",
       "      <td>0</td>\n",
       "      <td>1</td>\n",
       "    </tr>\n",
       "    <tr>\n",
       "      <th>10</th>\n",
       "      <td>BA4p</td>\n",
       "      <td>0</td>\n",
       "      <td>5</td>\n",
       "      <td>0</td>\n",
       "      <td>5</td>\n",
       "    </tr>\n",
       "    <tr>\n",
       "      <th>11</th>\n",
       "      <td>BA3a</td>\n",
       "      <td>0</td>\n",
       "      <td>2</td>\n",
       "      <td>0</td>\n",
       "      <td>2</td>\n",
       "    </tr>\n",
       "    <tr>\n",
       "      <th>12</th>\n",
       "      <td>perirhinal</td>\n",
       "      <td>4</td>\n",
       "      <td>4</td>\n",
       "      <td>0</td>\n",
       "      <td>8</td>\n",
       "    </tr>\n",
       "    <tr>\n",
       "      <th>0</th>\n",
       "      <td>MT</td>\n",
       "      <td>0</td>\n",
       "      <td>21</td>\n",
       "      <td>6</td>\n",
       "      <td>15</td>\n",
       "    </tr>\n",
       "    <tr>\n",
       "      <th>1</th>\n",
       "      <td>perirhinal</td>\n",
       "      <td>31</td>\n",
       "      <td>39</td>\n",
       "      <td>38</td>\n",
       "      <td>32</td>\n",
       "    </tr>\n",
       "    <tr>\n",
       "      <th>2</th>\n",
       "      <td>BA44</td>\n",
       "      <td>17</td>\n",
       "      <td>30</td>\n",
       "      <td>21</td>\n",
       "      <td>26</td>\n",
       "    </tr>\n",
       "    <tr>\n",
       "      <th>3</th>\n",
       "      <td>BA6</td>\n",
       "      <td>0</td>\n",
       "      <td>14</td>\n",
       "      <td>9</td>\n",
       "      <td>5</td>\n",
       "    </tr>\n",
       "    <tr>\n",
       "      <th>4</th>\n",
       "      <td>BA45</td>\n",
       "      <td>0</td>\n",
       "      <td>86</td>\n",
       "      <td>41</td>\n",
       "      <td>45</td>\n",
       "    </tr>\n",
       "    <tr>\n",
       "      <th>5</th>\n",
       "      <td>BA3a</td>\n",
       "      <td>1</td>\n",
       "      <td>1</td>\n",
       "      <td>1</td>\n",
       "      <td>1</td>\n",
       "    </tr>\n",
       "    <tr>\n",
       "      <th>6</th>\n",
       "      <td>BA2</td>\n",
       "      <td>0</td>\n",
       "      <td>15</td>\n",
       "      <td>13</td>\n",
       "      <td>2</td>\n",
       "    </tr>\n",
       "    <tr>\n",
       "      <th>7</th>\n",
       "      <td>V2</td>\n",
       "      <td>0</td>\n",
       "      <td>1</td>\n",
       "      <td>0</td>\n",
       "      <td>1</td>\n",
       "    </tr>\n",
       "    <tr>\n",
       "      <th>8</th>\n",
       "      <td>BA4a</td>\n",
       "      <td>0</td>\n",
       "      <td>8</td>\n",
       "      <td>4</td>\n",
       "      <td>4</td>\n",
       "    </tr>\n",
       "    <tr>\n",
       "      <th>9</th>\n",
       "      <td>BA3b</td>\n",
       "      <td>0</td>\n",
       "      <td>12</td>\n",
       "      <td>10</td>\n",
       "      <td>2</td>\n",
       "    </tr>\n",
       "    <tr>\n",
       "      <th>10</th>\n",
       "      <td>BA1</td>\n",
       "      <td>1</td>\n",
       "      <td>10</td>\n",
       "      <td>4</td>\n",
       "      <td>7</td>\n",
       "    </tr>\n",
       "    <tr>\n",
       "      <th>0</th>\n",
       "      <td>MT</td>\n",
       "      <td>0</td>\n",
       "      <td>23</td>\n",
       "      <td>23</td>\n",
       "      <td>0</td>\n",
       "    </tr>\n",
       "    <tr>\n",
       "      <th>1</th>\n",
       "      <td>V2</td>\n",
       "      <td>0</td>\n",
       "      <td>8</td>\n",
       "      <td>8</td>\n",
       "      <td>0</td>\n",
       "    </tr>\n",
       "    <tr>\n",
       "      <th>2</th>\n",
       "      <td>perirhinal</td>\n",
       "      <td>0</td>\n",
       "      <td>70</td>\n",
       "      <td>70</td>\n",
       "      <td>0</td>\n",
       "    </tr>\n",
       "    <tr>\n",
       "      <th>3</th>\n",
       "      <td>V1</td>\n",
       "      <td>0</td>\n",
       "      <td>1</td>\n",
       "      <td>1</td>\n",
       "      <td>0</td>\n",
       "    </tr>\n",
       "    <tr>\n",
       "      <th>4</th>\n",
       "      <td>BA44</td>\n",
       "      <td>0</td>\n",
       "      <td>34</td>\n",
       "      <td>34</td>\n",
       "      <td>0</td>\n",
       "    </tr>\n",
       "    <tr>\n",
       "      <th>5</th>\n",
       "      <td>BA45</td>\n",
       "      <td>0</td>\n",
       "      <td>6</td>\n",
       "      <td>6</td>\n",
       "      <td>0</td>\n",
       "    </tr>\n",
       "    <tr>\n",
       "      <th>6</th>\n",
       "      <td>BA3b</td>\n",
       "      <td>0</td>\n",
       "      <td>16</td>\n",
       "      <td>16</td>\n",
       "      <td>0</td>\n",
       "    </tr>\n",
       "    <tr>\n",
       "      <th>7</th>\n",
       "      <td>BA6</td>\n",
       "      <td>0</td>\n",
       "      <td>1</td>\n",
       "      <td>1</td>\n",
       "      <td>0</td>\n",
       "    </tr>\n",
       "    <tr>\n",
       "      <th>8</th>\n",
       "      <td>BA2</td>\n",
       "      <td>0</td>\n",
       "      <td>22</td>\n",
       "      <td>22</td>\n",
       "      <td>0</td>\n",
       "    </tr>\n",
       "    <tr>\n",
       "      <th>9</th>\n",
       "      <td>BA1</td>\n",
       "      <td>0</td>\n",
       "      <td>7</td>\n",
       "      <td>7</td>\n",
       "      <td>0</td>\n",
       "    </tr>\n",
       "  </tbody>\n",
       "</table>\n",
       "</div>"
      ],
      "text/plain": [
       "       Brodman ndepth nsurface n_lh n_rh\n",
       "0          BA2      0       17    0   17\n",
       "1           MT      1       24    0   25\n",
       "2           V2     10       37    5   42\n",
       "3          BA1      0        8    0    8\n",
       "4           V1      0        4    0    4\n",
       "5         BA3b      0        1    0    1\n",
       "6          BA6      0        2    1    1\n",
       "7         BA44      0        3    0    3\n",
       "8         BA45      0        2    0    2\n",
       "9         BA4a      0        2    2    0\n",
       "10  perirhinal     17        0    0   17\n",
       "0         BA45      0        9    0    9\n",
       "1   perirhinal     15       18    0   33\n",
       "2         BA44      5       21    0   26\n",
       "3           MT      0       16    0   16\n",
       "4           V2      0       13    0   13\n",
       "5           V1      0        5    0    5\n",
       "6         BA3a      0        4    0    4\n",
       "0          BA1      0       27   27    0\n",
       "1          BA2      0       43   43    0\n",
       "2         BA3b      0       45   45    0\n",
       "3   perirhinal     18       27   45    0\n",
       "4          BA6      0       36   36    0\n",
       "5         BA44      0       86   86    0\n",
       "6         BA45      0       74   74    0\n",
       "7           V2      0        6    6    0\n",
       "8           MT     11        9   20    0\n",
       "9         BA3a      0        3    3    0\n",
       "0           MT      0       17   17    0\n",
       "1           V2      0       10   10    0\n",
       "2          BA2      3       16   19    0\n",
       "3          BA6     10       11   21    0\n",
       "4   perirhinal     16       30   43    3\n",
       "5         BA45      0       20   18    2\n",
       "6         BA44      1       21   22    0\n",
       "7         BA3b      0        5    5    0\n",
       "0          BA2      0       12   12    0\n",
       "1         BA3b      0       20   20    0\n",
       "2          BA6      0       15   12    3\n",
       "3           MT      0       15   15    0\n",
       "4          BA1      0        2    2    0\n",
       "5         BA4a      0        1    1    0\n",
       "6         BA3a      0        1    1    0\n",
       "7         BA45      0       15   14    1\n",
       "8         BA44      0       20   20    0\n",
       "9   perirhinal      0       31   31    0\n",
       "10          V2      0       12   12    0\n",
       "11          V1      0        2    2    0\n",
       "0         BA3a      3        5    4    4\n",
       "1         BA44      9       35   12   32\n",
       "2   perirhinal     27       25   33   19\n",
       "3           MT      4       12   11    5\n",
       "4         BA45      0       52   43    9\n",
       "5          BA6      0       42   41    1\n",
       "6           V2      0        5    5    0\n",
       "7          BA2      1       15   16    0\n",
       "8         BA3b      7       23   30    0\n",
       "9          BA1      0        5    5    0\n",
       "0           MT      0        2    0    2\n",
       "1           V2      0       21    0   21\n",
       "2           V1      0        7    0    7\n",
       "3          BA2      0       33    0   33\n",
       "4          BA1      5       43    0   48\n",
       "5         BA44      0        8    0    8\n",
       "6         BA45      0        7    0    7\n",
       "7         BA3b      0        3    0    3\n",
       "8          BA6      0        1    0    1\n",
       "9         BA4a      0        1    0    1\n",
       "10        BA4p      0        5    0    5\n",
       "11        BA3a      0        2    0    2\n",
       "12  perirhinal      4        4    0    8\n",
       "0           MT      0       21    6   15\n",
       "1   perirhinal     31       39   38   32\n",
       "2         BA44     17       30   21   26\n",
       "3          BA6      0       14    9    5\n",
       "4         BA45      0       86   41   45\n",
       "5         BA3a      1        1    1    1\n",
       "6          BA2      0       15   13    2\n",
       "7           V2      0        1    0    1\n",
       "8         BA4a      0        8    4    4\n",
       "9         BA3b      0       12   10    2\n",
       "10         BA1      1       10    4    7\n",
       "0           MT      0       23   23    0\n",
       "1           V2      0        8    8    0\n",
       "2   perirhinal      0       70   70    0\n",
       "3           V1      0        1    1    0\n",
       "4         BA44      0       34   34    0\n",
       "5         BA45      0        6    6    0\n",
       "6         BA3b      0       16   16    0\n",
       "7          BA6      0        1    1    0\n",
       "8          BA2      0       22   22    0\n",
       "9          BA1      0        7    7    0"
      ]
     },
     "execution_count": 161,
     "metadata": {},
     "output_type": "execute_result"
    }
   ],
   "source": []
  },
  {
   "cell_type": "code",
   "execution_count": 147,
   "metadata": {},
   "outputs": [],
   "source": [
    "# Total \n",
    "dfROIs = {'Brodman': [], 'ndepth': [], 'nsurface': [], 'n_lh': [], 'n_rh': []}\n",
    "ROIs = dfsub['Brodman'].unique()\n",
    "for ROI in ROIs:\n",
    "    dfROIs['Brodman'].append(ROI)\n",
    "    dfROIs['ndepth'].append(sum(dfsub['ndepth'].loc[dfsub['Brodman']==ROI]))\n",
    "    dfROIs['nsurface'].append(sum(dfsub['nsurface'].loc[dfsub['Brodman']==ROI]))\n",
    "    dfROIs['n_lh'].append(sum(dfsub['n_lh'].loc[dfsub['Brodman']==ROI]))\n",
    "    dfROIs['n_rh'].append(sum(dfsub['n_rh'].loc[dfsub['Brodman']==ROI]))\n",
    "\n",
    "dfROIs = pd.DataFrame(data=dfROIs)"
   ]
  },
  {
   "cell_type": "code",
   "execution_count": 166,
   "metadata": {},
   "outputs": [
    {
     "data": {
      "text/plain": [
       "<matplotlib.axes._subplots.AxesSubplot at 0x7f926f839a50>"
      ]
     },
     "execution_count": 166,
     "metadata": {},
     "output_type": "execute_result"
    }
   ],
   "source": [
    "dfROIs.plot(x='Brodman', y= ['nsurface','ndepth','n_lh','n_rh'], kind='bar', title='Number of ECoG contacts per Brodman area summed over all subjects')"
   ]
  },
  {
   "cell_type": "code",
   "execution_count": 116,
   "metadata": {},
   "outputs": [],
   "source": [
    "for ROI in ROIs: \n",
    "    ROI_info = {'Brodman': [], 'ndepth': [], 'nsurface': [], 'n_lh': [], 'n_rh': []}\n",
    "    ROI_info['Brodman'].append(ROI)\n",
    "    ROI_info['ndepth'].append(len(dfelec['isdepth'].loc[dfelec['Brodman']==ROI].loc[dfelec['isdepth']==1]))\n",
    "    ROI_info['nsurface'].append(len(dfelec['isdepth'].loc[dfelec['Brodman']==ROI].loc[dfelec['isdepth']==0]))\n",
    "    ROI_info['n_lh'].append(len(dfelec['hemisphere'].loc[dfelec['Brodman']==ROI].loc[dfelec['hemisphere']=='lh']))\n",
    "    ROI_info['n_rh'].append(len(dfelec['hemisphere'].loc[dfelec['Brodman']==ROI].loc[dfelec['hemisphere']=='rh']))"
   ]
  },
  {
   "cell_type": "code",
   "execution_count": 141,
   "metadata": {},
   "outputs": [
    {
     "data": {
      "text/plain": [
       "13"
      ]
     },
     "execution_count": 141,
     "metadata": {},
     "output_type": "execute_result"
    }
   ],
   "source": [
    "len(dfsub['Brodman'].unique())"
   ]
  },
  {
   "cell_type": "code",
   "execution_count": 137,
   "metadata": {},
   "outputs": [
    {
     "data": {
      "text/plain": [
       "array(['BA2', 'MT', 'V2', 'BA1', 'V1', 'BA3b', 'BA6', 'BA44', 'BA45',\n",
       "       'BA4a', 'perirhinal', 11, 'BA3a', 7, 10, 8, 12, 'BA4p', 13],\n",
       "      dtype=object)"
      ]
     },
     "execution_count": 137,
     "metadata": {},
     "output_type": "execute_result"
    }
   ],
   "source": [
    "dfsub['Brodman'].unique()"
   ]
  },
  {
   "cell_type": "code",
   "execution_count": 54,
   "metadata": {},
   "outputs": [
    {
     "data": {
      "application/vnd.dataresource+json": {
       "data": [],
       "schema": {
        "fields": [
         {
          "name": "index",
          "type": "integer"
         },
         {
          "name": "Brodman",
          "type": "string"
         }
        ],
        "pandas_version": "0.20.0",
        "primaryKey": [
         "index"
        ]
       }
      },
      "text/plain": [
       "Series([], Name: Brodman, dtype: object)"
      ]
     },
     "execution_count": 54,
     "metadata": {},
     "output_type": "execute_result"
    }
   ],
   "source": [
    "dfelec['Brodman'].loc[dfelec['electrode_name'] == 'RTo7']"
   ]
  },
  {
   "cell_type": "code",
   "execution_count": 7,
   "metadata": {},
   "outputs": [
    {
     "data": {
      "application/vnd.dataresource+json": {
       "data": [
        {
         "electrode_name": "RIa14",
         "index": 26
        },
        {
         "electrode_name": "RIa13",
         "index": 27
        },
        {
         "electrode_name": "RIa12",
         "index": 28
        },
        {
         "electrode_name": "RIa11",
         "index": 29
        },
        {
         "electrode_name": "RIa10",
         "index": 30
        },
        {
         "electrode_name": "RIa9",
         "index": 31
        },
        {
         "electrode_name": "RIa8",
         "index": 32
        }
       ],
       "schema": {
        "fields": [
         {
          "name": "index",
          "type": "integer"
         },
         {
          "name": "electrode_name",
          "type": "string"
         }
        ],
        "pandas_version": "0.20.0",
        "primaryKey": [
         "index"
        ]
       }
      },
      "text/plain": [
       "26    RIa14\n",
       "27    RIa13\n",
       "28    RIa12\n",
       "29    RIa11\n",
       "30    RIa10\n",
       "31     RIa9\n",
       "32     RIa8\n",
       "Name: electrode_name, dtype: object"
      ]
     },
     "execution_count": 7,
     "metadata": {},
     "output_type": "execute_result"
    }
   ],
   "source": [
    "dfelec['electrode_name'].loc[dfelec['Brodman'] == 'BA45']"
   ]
  },
  {
   "cell_type": "code",
   "execution_count": null,
   "metadata": {},
   "outputs": [],
   "source": [
    "# Channels to pick\n",
    "['RTo9-RTo10',  'RTo7-RTo8', 'RO1-RO2', 'RIp9-RIp10', 'RFp5-RFp6', 'RIa5-RIa6', 'RIa11-RIa12', 'RFPs9-RFPs10', 'RTp5-RTp6']"
   ]
  },
  {
   "cell_type": "code",
   "execution_count": null,
   "metadata": {},
   "outputs": [],
   "source": [
    "proc = 'BP'\n",
    "subid = 'JuRo'\n",
    "cfsubdir = Path('~','CIFAR_data','iEEG_10','subjects', subid, 'EEGLAB_datasets', 'bipolar_montage').expanduser()\n",
    "fname = helper.CIFAR_filename(subid=subid,task='rest_baseline',proc=proc)\n",
    "fpath = cfsubdir.joinpath(fname)\n",
    "fpath = os.fspath(fpath)\n",
    "raw = mne.io.read_raw_eeglab(fpath)"
   ]
  },
  {
   "cell_type": "code",
   "execution_count": null,
   "metadata": {},
   "outputs": [],
   "source": [
    "# ROIs table\n"
   ]
  }
 ],
 "metadata": {
  "kernelspec": {
   "display_name": "Python 3",
   "language": "python",
   "name": "python3"
  },
  "language_info": {
   "codemirror_mode": {
    "name": "ipython",
    "version": 3
   },
   "file_extension": ".py",
   "mimetype": "text/x-python",
   "name": "python",
   "nbconvert_exporter": "python",
   "pygments_lexer": "ipython3",
   "version": "3.7.7"
  }
 },
 "nbformat": 4,
 "nbformat_minor": 4
}
