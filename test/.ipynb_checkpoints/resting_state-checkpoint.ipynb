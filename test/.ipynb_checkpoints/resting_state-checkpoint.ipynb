{
 "cells": [
  {
   "cell_type": "code",
   "execution_count": 1,
   "metadata": {},
   "outputs": [
    {
     "name": "stdout",
     "output_type": "stream",
     "text": [
      "Using matplotlib backend: Qt5Agg\n"
     ]
    }
   ],
   "source": [
    "from mne_bids import make_bids_basename\n",
    "from pathlib import Path, PurePath\n",
    "\n",
    "from pathlib import Path, PurePath\n",
    "from mne.time_frequency import (tfr_multitaper, tfr_stockwell, tfr_morlet,\n",
    "                                tfr_array_morlet)\n",
    "from mne.time_frequency import csd_fourier, csd_multitaper, csd_morlet\n",
    "\n",
    "import seaborn\n",
    "import helper\n",
    "import mne\n",
    "import os\n",
    "import matplotlib.pyplot as plt\n",
    "import pandas as pd\n",
    "import matlab.engine\n",
    "import numpy as np\n",
    "import scipy as sp\n",
    "import scipy.io\n",
    "pd.options.display.html.table_schema = True\n",
    "pd.options.display.max_rows = None\n",
    "from mne.time_frequency import psd_multitaper\n",
    "%matplotlib \n",
    "\n",
    "# TODO \n",
    "# Power specturm analysis : drop bad channels, load data, create epochs and wavelets analysis\n"
   ]
  },
  {
   "cell_type": "code",
   "execution_count": 49,
   "metadata": {},
   "outputs": [
    {
     "name": "stdout",
     "output_type": "stream",
     "text": [
      "Reading /home/guime/CIFAR_data/iEEG_10/subjects/JuRo/EEGLAB_datasets/bipolar_montage/JuRo_freerecall_rest_baseline_1_preprocessed_BP_montage.fdt\n",
      "Reading 0 ... 104998  =      0.000 ...   209.996 secs...\n"
     ]
    },
    {
     "name": "stderr",
     "output_type": "stream",
     "text": [
      "<ipython-input-49-37dd622d2b8e>:12: RuntimeWarning: Limited 1 annotation(s) that were expanding outside the data range.\n",
      "  raw = mne.io.read_raw_eeglab(fpath, preload=True)\n",
      "<ipython-input-49-37dd622d2b8e>:12: RuntimeWarning: The data contains 'boundary' events, indicating data discontinuities. Be cautious of filtering and epoching around these events.\n",
      "  raw = mne.io.read_raw_eeglab(fpath, preload=True)\n"
     ]
    }
   ],
   "source": [
    "proc = 'BP'\n",
    "subid = 'JuRo'\n",
    "cfsubdir = Path('~','CIFAR_data','iEEG_10','subjects', subid, 'EEGLAB_datasets', 'bipolar_montage').expanduser()\n",
    "subpath = Path('~','projects','CIFAR','data_bids', 'sub-06' ).expanduser()\n",
    "elecinfo = subpath.joinpath('anat','electrodes_info.csv')\n",
    "dfelec = pd.read_csv(elecinfo)\n",
    "ROIs = dfelec['Brodman'].unique()\n",
    "nROIs = len(ROIs)\n",
    "fname = helper.CIFAR_filename(subid=subid,task='rest_baseline',proc=proc)\n",
    "fpath = cfsubdir.joinpath(fname)\n",
    "fpath = os.fspath(fpath)\n",
    "raw = mne.io.read_raw_eeglab(fpath, preload=True)"
   ]
  },
  {
   "cell_type": "code",
   "execution_count": 26,
   "metadata": {},
   "outputs": [],
   "source": [
    "# Anatomical info\n",
    "#dfelec"
   ]
  },
  {
   "cell_type": "code",
   "execution_count": 50,
   "metadata": {},
   "outputs": [],
   "source": [
    "bad_chan = ['OSAT', 'PR', 'ECG', 'TRIG', 'Event', 'RDh1-RDh6', 'RIa1-RIa2', 'RDh2-RDh6','RPs1-RPs2','EMG']\n",
    "raw.info['bads'] = bad_chan\n",
    "picks = ['RIa5-RIa6', 'RIa3-RIa2', 'RTo1-RTo2', 'RTo7-RTo8', 'RO7-RO8', 'RFp5-RFp6', 'RTs5-RTs6']"
   ]
  },
  {
   "cell_type": "code",
   "execution_count": 28,
   "metadata": {},
   "outputs": [],
   "source": [
    "#raw.plot(duration=30, n_channels=20, scalings=2e-4, color='b', butterfly=False)"
   ]
  },
  {
   "cell_type": "code",
   "execution_count": 77,
   "metadata": {},
   "outputs": [
    {
     "name": "stdout",
     "output_type": "stream",
     "text": [
      "Filtering raw data in 1 contiguous segment\n",
      "Setting up band-pass filter from 65 - 85 Hz\n",
      "\n",
      "FIR filter parameters\n",
      "---------------------\n",
      "Designing a one-pass, non-linear phase, causal bandpass filter:\n",
      "- Windowed time-domain design (firwin) method\n",
      "- Hamming window with 0.0194 passband ripple and 53 dB stopband attenuation\n",
      "- Lower transition bandwidth: 16.25 Hz\n",
      "- Upper transition bandwidth: 21.25 Hz\n",
      "- Filter length: 151 samples (0.302 sec)\n",
      "\n"
     ]
    }
   ],
   "source": [
    "# Extract envelope \n",
    "l_freq = 65\n",
    "h_freq = 85\n",
    "raw_band = raw.copy().filter(l_freq=l_freq, h_freq=h_freq, phase='minimum', filter_length='0.3s', l_trans_bandwidth=, h_trans_bandwidth=)\n",
    "raw_hilbert = raw_band.copy().apply_hilbert(envelope=True)"
   ]
  },
  {
   "cell_type": "code",
   "execution_count": 73,
   "metadata": {},
   "outputs": [],
   "source": [
    "raw_band_crop = raw_band.copy().crop(10, 20)\n",
    "raw_hilb_crop = raw_hilbert.copy().crop(10, 20)"
   ]
  },
  {
   "cell_type": "code",
   "execution_count": 74,
   "metadata": {},
   "outputs": [
    {
     "data": {
      "text/plain": [
       "array([[ 5.18468509e-06,  6.09052442e-06,  4.48684367e-06, ...,\n",
       "         1.55178929e-06,  5.53271676e-07, -4.00906634e-07]])"
      ]
     },
     "execution_count": 74,
     "metadata": {},
     "output_type": "execute_result"
    }
   ],
   "source": [
    "raw_band_crop['RTo7-RTo8'][0]"
   ]
  },
  {
   "cell_type": "code",
   "execution_count": 75,
   "metadata": {},
   "outputs": [
    {
     "data": {
      "text/plain": [
       "[<matplotlib.lines.Line2D at 0x7fb198eeb550>]"
      ]
     },
     "execution_count": 75,
     "metadata": {},
     "output_type": "execute_result"
    }
   ],
   "source": [
    "# Plot envelope\n",
    "\n",
    "plt.plot(raw_band_crop['RTo7-RTo8'][1], raw_band_crop['RTo7-RTo8'][0][0])\n",
    "plt.plot(raw_hilb_crop['RTo7-RTo8'][1], raw_hilb_crop['RTo7-RTo8'][0][0])"
   ]
  },
  {
   "cell_type": "code",
   "execution_count": 30,
   "metadata": {},
   "outputs": [
    {
     "name": "stdout",
     "output_type": "stream",
     "text": [
      "Reading 0 ... 104998  =      0.000 ...   209.996 secs...\n"
     ]
    }
   ],
   "source": [
    "# pick channels\n",
    "raw_pick = raw.load_data().pick_channels(ch_names=picks)"
   ]
  },
  {
   "cell_type": "code",
   "execution_count": 31,
   "metadata": {},
   "outputs": [],
   "source": [
    "events = mne.make_fixed_length_events(raw_pick, duration=10)"
   ]
  },
  {
   "cell_type": "code",
   "execution_count": 32,
   "metadata": {},
   "outputs": [
    {
     "name": "stdout",
     "output_type": "stream",
     "text": [
      "20 matching events found\n",
      "Applying baseline correction (mode: mean)\n",
      "Not setting metadata\n",
      "0 projection items activated\n"
     ]
    }
   ],
   "source": [
    "epochs = mne.Epochs(raw_pick, events, tmin=- 0.2, tmax=10, \n",
    "                    event_repeated='drop')"
   ]
  },
  {
   "cell_type": "code",
   "execution_count": 27,
   "metadata": {},
   "outputs": [],
   "source": [
    "#epochs.plot_psd(fmin=1, fmax=100, xscale='log',average=False)"
   ]
  },
  {
   "cell_type": "code",
   "execution_count": 37,
   "metadata": {},
   "outputs": [
    {
     "name": "stdout",
     "output_type": "stream",
     "text": [
      "Setting up band-pass filter from 65 - 85 Hz\n",
      "\n",
      "FIR filter parameters\n",
      "---------------------\n",
      "Designing a one-pass, non-linear phase, causal bandpass filter:\n",
      "- Windowed time-domain design (firwin) method\n",
      "- Hamming window with 0.0194 passband ripple and 53 dB stopband attenuation\n",
      "- Lower transition bandwidth: 16.25 Hz\n",
      "- Upper transition bandwidth: 21.25 Hz\n",
      "- Filter length: 103 samples (0.206 sec)\n",
      "\n"
     ]
    }
   ],
   "source": [
    "# Filtering \n",
    "l_freq = 65\n",
    "h_freq = 85\n",
    "data = raw_pick.get_data()\n",
    "h = mne.filter.create_filter(data, sfreq=500, l_freq=l_freq, h_freq=h_freq, method='fir', phase='minimum')\n"
   ]
  },
  {
   "cell_type": "code",
   "execution_count": 39,
   "metadata": {},
   "outputs": [],
   "source": [
    "#mne.viz.plot_filter(h, sfreq=500)"
   ]
  },
  {
   "cell_type": "code",
   "execution_count": 41,
   "metadata": {},
   "outputs": [
    {
     "name": "stdout",
     "output_type": "stream",
     "text": [
      "Filtering raw data in 1 contiguous segment\n",
      "Setting up band-pass filter from 65 - 85 Hz\n",
      "\n",
      "FIR filter parameters\n",
      "---------------------\n",
      "Designing a one-pass, zero-phase, non-causal bandpass filter:\n",
      "- Windowed time-domain design (firwin) method\n",
      "- Hamming window with 0.0194 passband ripple and 53 dB stopband attenuation\n",
      "- Lower passband edge: 65.00\n",
      "- Lower transition bandwidth: 16.25 Hz (-6 dB cutoff frequency: 56.88 Hz)\n",
      "- Upper passband edge: 85.00 Hz\n",
      "- Upper transition bandwidth: 21.25 Hz (-6 dB cutoff frequency: 95.62 Hz)\n",
      "- Filter length: 103 samples (0.206 sec)\n",
      "\n"
     ]
    }
   ],
   "source": [
    "raw_filter = raw_pick.filter(l_freq=l_freq, h_freq=h_freq)"
   ]
  },
  {
   "cell_type": "code",
   "execution_count": 42,
   "metadata": {},
   "outputs": [],
   "source": [
    "raw_envelope = raw_filter.apply_hilbert(envelope=True)"
   ]
  },
  {
   "cell_type": "code",
   "execution_count": null,
   "metadata": {},
   "outputs": [],
   "source": [
    "raw_envelope.plot()"
   ]
  },
  {
   "cell_type": "code",
   "execution_count": 18,
   "metadata": {},
   "outputs": [
    {
     "name": "stdout",
     "output_type": "stream",
     "text": [
      "Loading data for 9 events and 2601 original time points ...\n",
      "    Using multitaper spectrum estimation with 7 DPSS windows\n"
     ]
    },
    {
     "data": {
      "text/plain": [
       "(1, 50)"
      ]
     },
     "execution_count": 18,
     "metadata": {},
     "output_type": "execute_result"
    }
   ],
   "source": [
    "psds, freqs = psd_multitaper(epochs, low_bias=True)\n",
    "psds = 10 * np.log10(psds)\n",
    "psds_mean = psds.mean(0).mean(0)\n",
    "\n",
    "plt.plot(freqs, psds_mean, color='b')\n",
    "plt.xscale('log')\n",
    "plt.xlim(xmin=1, xmax=50)"
   ]
  },
  {
   "cell_type": "code",
   "execution_count": 42,
   "metadata": {},
   "outputs": [],
   "source": [
    "# Power\n",
    "freqs = np.arange(5., 30., 1.)\n",
    "ncycles = freqs/2\n",
    "power =  tfr_morlet(epochs, freqs=freqs,\n",
    "                       n_cycles=ncycles, return_itc=False)\n"
   ]
  },
  {
   "cell_type": "code",
   "execution_count": 43,
   "metadata": {},
   "outputs": [
    {
     "name": "stdout",
     "output_type": "stream",
     "text": [
      "Applying baseline correction (mode: mean)\n"
     ]
    },
    {
     "data": {
      "image/png": "[encoded data removed]",
      "text/plain": [
       "<Figure size 640x480 with 2 Axes>"
      ]
     },
     "execution_count": 43,
     "metadata": {},
     "output_type": "execute_result"
    }
   ],
   "source": [
    "vmax = 5e-8\n",
    "vmin = -vmax \n",
    "power.plot([37], baseline=(0., 0.1), vmin=vmin, vmax=vmax, mode='mean', show=False,\n",
    "               colorbar=True)"
   ]
  },
  {
   "cell_type": "code",
   "execution_count": 26,
   "metadata": {},
   "outputs": [
    {
     "name": "stdout",
     "output_type": "stream",
     "text": [
      "Loading data for 9 events and 2601 original time points ...\n"
     ]
    },
    {
     "data": {
      "text/plain": [
       "<Epochs  |   9 events (all good), -0.2 - 5 sec, baseline [None, 0], ~13.6 MB, data loaded,\n",
       " '1': 9>"
      ]
     },
     "execution_count": 26,
     "metadata": {},
     "output_type": "execute_result"
    }
   ],
   "source": [
    "epochs.load_data()"
   ]
  },
  {
   "cell_type": "code",
   "execution_count": 38,
   "metadata": {},
   "outputs": [
    {
     "name": "stdout",
     "output_type": "stream",
     "text": [
      "    Using multitaper spectrum estimation with 7 DPSS windows\n",
      "Computing cross-spectral density from epochs...\n",
      "    Computing CSD matrix for epoch 1\n",
      "    Computing CSD matrix for epoch 2\n",
      "    Computing CSD matrix for epoch 3\n",
      "    Computing CSD matrix for epoch 4\n",
      "    Computing CSD matrix for epoch 5\n",
      "    Computing CSD matrix for epoch 6\n",
      "    Computing CSD matrix for epoch 7\n",
      "    Computing CSD matrix for epoch 8\n",
      "    Computing CSD matrix for epoch 9\n",
      "[done]\n"
     ]
    }
   ],
   "source": [
    "csd_mt = csd_multitaper(epochs, fmin=5, fmax=20, adaptive=True)"
   ]
  },
  {
   "cell_type": "code",
   "execution_count": 39,
   "metadata": {},
   "outputs": [
    {
     "data": {
      "text/plain": [
       "Text(0.5, 0.98, 'adaptive multitapers')"
      ]
     },
     "execution_count": 39,
     "metadata": {},
     "output_type": "execute_result"
    }
   ],
   "source": [
    "csd_mt.mean().plot(mode='coh')\n",
    "plt.suptitle('adaptive multitapers')"
   ]
  }
 ],
 "metadata": {
  "kernelspec": {
   "display_name": "Python 3",
   "language": "python",
   "name": "python3"
  },
  "language_info": {
   "codemirror_mode": {
    "name": "ipython",
    "version": 3
   },
   "file_extension": ".py",
   "mimetype": "text/x-python",
   "name": "python",
   "nbconvert_exporter": "python",
   "pygments_lexer": "ipython3",
   "version": "3.7.7"
  }
 },
 "nbformat": 4,
 "nbformat_minor": 4
}
