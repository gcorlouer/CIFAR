{
 "cells": [
  {
   "cell_type": "code",
   "execution_count": 2,
   "metadata": {},
   "outputs": [
    {
     "name": "stdout",
     "output_type": "stream",
     "text": [
      "Using matplotlib backend: Qt5Agg\n"
     ]
    }
   ],
   "source": [
    "import helper\n",
    "import mne\n",
    "import scipy.io\n",
    "import pandas as pd\n",
    "import numpy as np\n",
    "import matplotlib.pyplot as plt\n",
    "import scipy.stats as spstats\n",
    "import statsmodels.stats as stats\n",
    "\n",
    "pd.options.display.html.table_schema = True\n",
    "pd.options.display.max_rows = None\n",
    "from pathlib import Path, PurePath\n",
    "\n",
    "%matplotlib\n",
    "plt.rcParams.update({'font.size': 14})"
   ]
  },
  {
   "cell_type": "code",
   "execution_count": 3,
   "metadata": {},
   "outputs": [],
   "source": [
    "# Parameters \n",
    "\n",
    "# Subject and task\n",
    "subject = 'DiAs'\n",
    "subject_id = '04'\n",
    "proc = 'raw'\n",
    "montage = 'preproc'\n",
    "suffix = '_lnrmv.set'\n",
    "task = 'stimuli'\n",
    "run = '1'\n",
    "\n",
    "# High frequency bands \n",
    "l_freq = 60\n",
    "nband = 6 \n",
    "band_size = 20 \n",
    "\n",
    "# Epoch parameter\n",
    "\n",
    "tmin = -0.5 # Prestimulus\n",
    "tmax = 1.75 # Poststimulus\n",
    "\n",
    "# Saving paramerters \n",
    "\n",
    "save2 = Path('~','projects','CIFAR','data_fun').expanduser()\n",
    "task_save = 'stimuli'\n",
    "suffix_place = '_epoch_place.mat'\n",
    "suffix_face = '_epoch_face.mat'"
   ]
  },
  {
   "cell_type": "code",
   "execution_count": 4,
   "metadata": {},
   "outputs": [
    {
     "name": "stderr",
     "output_type": "stream",
     "text": [
      "/home/guime/projects/CIFAR/new_code/test/helper.py:26: RuntimeWarning: Limited 2 annotation(s) that were expanding outside the data range.\n",
      "  raw = mne.io.read_raw_eeglab(fpath, preload=load)\n",
      "/home/guime/projects/CIFAR/new_code/test/helper.py:26: RuntimeWarning: The data contains 'boundary' events, indicating data discontinuities. Be cautious of filtering and epoching around these events.\n",
      "  raw = mne.io.read_raw_eeglab(fpath, preload=load)\n"
     ]
    }
   ],
   "source": [
    "raw, dfelec = helper.import_data(task=task, proc=proc, montage=montage, run=run, subject=subject, subject_id=subject_id, suffix=suffix)"
   ]
  },
  {
   "cell_type": "code",
   "execution_count": 5,
   "metadata": {},
   "outputs": [
    {
     "name": "stdout",
     "output_type": "stream",
     "text": [
      "Filtering raw data in 1 contiguous segment\n",
      "Setting up band-pass filter from 80 - 1e+02 Hz\n",
      "\n",
      "FIR filter parameters\n",
      "---------------------\n",
      "Designing a one-pass, non-linear phase, causal bandpass filter:\n",
      "- Windowed time-domain design (firwin) method\n",
      "- Blackman window with 0.0017 passband ripple and 74 dB stopband attenuation\n",
      "- Lower transition bandwidth: 10.00 Hz\n",
      "- Upper transition bandwidth: 10.00 Hz\n",
      "- Filter length: 251 samples (0.502 sec)\n",
      "\n",
      "Filtering raw data in 1 contiguous segment\n",
      "Setting up band-pass filter from 1e+02 - 1.2e+02 Hz\n",
      "\n",
      "FIR filter parameters\n",
      "---------------------\n",
      "Designing a one-pass, non-linear phase, causal bandpass filter:\n",
      "- Windowed time-domain design (firwin) method\n",
      "- Blackman window with 0.0017 passband ripple and 74 dB stopband attenuation\n",
      "- Lower transition bandwidth: 10.00 Hz\n",
      "- Upper transition bandwidth: 10.00 Hz\n",
      "- Filter length: 251 samples (0.502 sec)\n",
      "\n"
     ]
    },
    {
     "name": "stderr",
     "output_type": "stream",
     "text": [
      "/home/guime/projects/CIFAR/new_code/test/helper.py:86: RuntimeWarning: invalid value encountered in true_divide\n",
      "  HFB = np.divide(HFB, np.mean(HFB, axis=1)[:,np.newaxis])\n"
     ]
    },
    {
     "name": "stdout",
     "output_type": "stream",
     "text": [
      "Filtering raw data in 1 contiguous segment\n",
      "Setting up band-pass filter from 1.2e+02 - 1.4e+02 Hz\n",
      "\n",
      "FIR filter parameters\n",
      "---------------------\n",
      "Designing a one-pass, non-linear phase, causal bandpass filter:\n",
      "- Windowed time-domain design (firwin) method\n",
      "- Blackman window with 0.0017 passband ripple and 74 dB stopband attenuation\n",
      "- Lower transition bandwidth: 10.00 Hz\n",
      "- Upper transition bandwidth: 10.00 Hz\n",
      "- Filter length: 251 samples (0.502 sec)\n",
      "\n",
      "Filtering raw data in 1 contiguous segment\n",
      "Setting up band-pass filter from 1.4e+02 - 1.6e+02 Hz\n",
      "\n",
      "FIR filter parameters\n",
      "---------------------\n",
      "Designing a one-pass, non-linear phase, causal bandpass filter:\n",
      "- Windowed time-domain design (firwin) method\n",
      "- Blackman window with 0.0017 passband ripple and 74 dB stopband attenuation\n",
      "- Lower transition bandwidth: 10.00 Hz\n",
      "- Upper transition bandwidth: 10.00 Hz\n",
      "- Filter length: 251 samples (0.502 sec)\n",
      "\n",
      "Filtering raw data in 1 contiguous segment\n",
      "Setting up band-pass filter from 1.6e+02 - 1.8e+02 Hz\n",
      "\n",
      "FIR filter parameters\n",
      "---------------------\n",
      "Designing a one-pass, non-linear phase, causal bandpass filter:\n",
      "- Windowed time-domain design (firwin) method\n",
      "- Blackman window with 0.0017 passband ripple and 74 dB stopband attenuation\n",
      "- Lower transition bandwidth: 10.00 Hz\n",
      "- Upper transition bandwidth: 10.00 Hz\n",
      "- Filter length: 251 samples (0.502 sec)\n",
      "\n",
      "Creating RawArray with float64 data, n_channels=151, n_times=69108\n",
      "    Range : 0 ... 69107 =      0.000 ...   138.214 secs\n",
      "Ready.\n"
     ]
    }
   ],
   "source": [
    "HFB, raw_HFB = helper.HFB_raw(raw, l_freq=60, nband=6, band_size=20);"
   ]
  },
  {
   "cell_type": "code",
   "execution_count": 6,
   "metadata": {},
   "outputs": [
    {
     "name": "stdout",
     "output_type": "stream",
     "text": [
      "Used Annotations descriptions: ['-1', '-2', 'Face010', 'Face020', 'Face030', 'Face040', 'Face050', 'Face060', 'Face070', 'Place010', 'Place020', 'Place030', 'Place040', 'Place050', 'Place060', 'Place070', 'boundary']\n"
     ]
    }
   ],
   "source": [
    "events, event_id = mne.events_from_annotations(raw)"
   ]
  },
  {
   "cell_type": "code",
   "execution_count": 7,
   "metadata": {},
   "outputs": [],
   "source": [
    "place_id, face_id = helper.stim_id(event_id)"
   ]
  },
  {
   "cell_type": "code",
   "execution_count": 8,
   "metadata": {},
   "outputs": [
    {
     "name": "stdout",
     "output_type": "stream",
     "text": [
      "59 matching events found\n",
      "No baseline correction applied\n",
      "Not setting metadata\n",
      "0 projection items activated\n",
      "Loading data for 59 events and 1126 original time points ...\n",
      "1 bad epochs dropped\n"
     ]
    }
   ],
   "source": [
    "epochs = mne.Epochs(raw_HFB, events, event_id= event_id, tmin=tmin, tmax=tmax, baseline=None,preload=True)"
   ]
  },
  {
   "cell_type": "code",
   "execution_count": 9,
   "metadata": {},
   "outputs": [],
   "source": [
    "time = epochs.times"
   ]
  },
  {
   "cell_type": "code",
   "execution_count": 10,
   "metadata": {},
   "outputs": [
    {
     "name": "stderr",
     "output_type": "stream",
     "text": [
      "/home/guime/projects/CIFAR/new_code/test/helper.py:153: RuntimeWarning: invalid value encountered in true_divide\n",
      "  HFB_norm[i,j,:] = np.divide(HFB_epoch[i,j,:], baseline[i,j])# divide by baseline\n",
      "/home/guime/projects/CIFAR/new_code/test/helper.py:158: RuntimeWarning: divide by zero encountered in log10\n",
      "  HFB_db[i,j,:] = 20*np.log10(HFB_norm[i,j,:]) # transform into normal distribution\n"
     ]
    },
    {
     "name": "stdout",
     "output_type": "stream",
     "text": [
      "58 matching events found\n",
      "No baseline correction applied\n",
      "Not setting metadata\n",
      "0 projection items activated\n",
      "0 bad epochs dropped\n"
     ]
    }
   ],
   "source": [
    "HFB_db = helper.HFB_norm(epochs, events, tmin)"
   ]
  },
  {
   "cell_type": "code",
   "execution_count": 57,
   "metadata": {},
   "outputs": [],
   "source": [
    "picks = 'LGRD2'"
   ]
  },
  {
   "cell_type": "code",
   "execution_count": 58,
   "metadata": {},
   "outputs": [],
   "source": [
    "evok = HFB_db[face_id].copy().pick(picks).average()\n",
    "ERP = evok.data"
   ]
  },
  {
   "cell_type": "code",
   "execution_count": 59,
   "metadata": {},
   "outputs": [
    {
     "data": {
      "text/plain": [
       "[<matplotlib.lines.Line2D at 0x7f4358f5aad0>]"
      ]
     },
     "execution_count": 59,
     "metadata": {},
     "output_type": "execute_result"
    }
   ],
   "source": [
    "plt.plot(time, ERP[0,:]) "
   ]
  },
  {
   "cell_type": "code",
   "execution_count": 11,
   "metadata": {},
   "outputs": [
    {
     "name": "stderr",
     "output_type": "stream",
     "text": [
      "/home/guime/anaconda3/envs/neuro/lib/python3.7/site-packages/numpy/core/_methods.py:151: RuntimeWarning: overflow encountered in reduce\n",
      "  ret = umr_sum(arr, axis, dtype, out, keepdims)\n"
     ]
    }
   ],
   "source": [
    "evok_po = HFB_db.copy().crop(tmin=0.1, tmax=0.5).average()\n",
    "evok_pr = HFB_db.copy().crop(tmin=-0.5, tmax=-0.1).average()"
   ]
  },
  {
   "cell_type": "code",
   "execution_count": 12,
   "metadata": {},
   "outputs": [],
   "source": [
    "A_po = evok_po.data\n",
    "A_pr = evok_pr.data"
   ]
  },
  {
   "cell_type": "code",
   "execution_count": 18,
   "metadata": {},
   "outputs": [
    {
     "name": "stderr",
     "output_type": "stream",
     "text": [
      "/home/guime/anaconda3/envs/neuro/lib/python3.7/site-packages/ipykernel_launcher.py:9: RuntimeWarning: invalid value encountered in subtract\n",
      "  if __name__ == '__main__':\n"
     ]
    }
   ],
   "source": [
    "# compute cohen d\n",
    "M1 = np.mean(A_po, axis=1)\n",
    "M2 = np.mean(A_pr, axis=1)\n",
    "std1 = np.std(A_po, axis=1)\n",
    "std2 = np.std(A_pr, axis=1)\n",
    "n1 = A_po.shape[1]\n",
    "n2 = A_pr.shape[1]\n",
    "std = np.sqrt(np.divide((n1-1)*std1**2+(n2-1)*std2**2,(n1+n2-2)))\n",
    "cohen = np.divide(M1-M2, std)"
   ]
  },
  {
   "cell_type": "code",
   "execution_count": 90,
   "metadata": {},
   "outputs": [
    {
     "name": "stderr",
     "output_type": "stream",
     "text": [
      "/home/guime/anaconda3/envs/neuro/lib/python3.7/site-packages/ipykernel_launcher.py:1: RuntimeWarning: invalid value encountered in greater\n",
      "  \"\"\"Entry point for launching an IPython kernel.\n",
      "/home/guime/anaconda3/envs/neuro/lib/python3.7/site-packages/ipykernel_launcher.py:2: RuntimeWarning: invalid value encountered in greater\n",
      "  \n",
      "/home/guime/anaconda3/envs/neuro/lib/python3.7/site-packages/ipykernel_launcher.py:3: RuntimeWarning: invalid value encountered in greater\n",
      "  This is separate from the ipykernel package so we can avoid doing imports until\n"
     ]
    }
   ],
   "source": [
    "Fsmall = len(cohen[cohen>0.2])/len(cohen)\n",
    "Fmedium = len(cohen[cohen>0.5])/len(cohen)\n",
    "Flarge = len(cohen[cohen>0.8])/len(cohen)"
   ]
  },
  {
   "cell_type": "code",
   "execution_count": 20,
   "metadata": {},
   "outputs": [
    {
     "ename": "AttributeError",
     "evalue": "module 'statsmodels.stats' has no attribute 'ttest_rel'",
     "output_type": "error",
     "traceback": [
      "\u001b[0;31m---------------------------------------------------------------------------\u001b[0m",
      "\u001b[0;31mAttributeError\u001b[0m                            Traceback (most recent call last)",
      "\u001b[0;32m<ipython-input-20-16900698dc37>\u001b[0m in \u001b[0;36m<module>\u001b[0;34m\u001b[0m\n\u001b[1;32m      1\u001b[0m \u001b[0;32mfor\u001b[0m \u001b[0mi\u001b[0m \u001b[0;32min\u001b[0m \u001b[0mrange\u001b[0m\u001b[0;34m(\u001b[0m\u001b[0;36m0\u001b[0m\u001b[0;34m,\u001b[0m\u001b[0mlen\u001b[0m\u001b[0;34m(\u001b[0m\u001b[0mepochs\u001b[0m\u001b[0;34m.\u001b[0m\u001b[0minfo\u001b[0m\u001b[0;34m[\u001b[0m\u001b[0;34m'ch_names'\u001b[0m\u001b[0;34m]\u001b[0m\u001b[0;34m)\u001b[0m\u001b[0;34m)\u001b[0m\u001b[0;34m:\u001b[0m\u001b[0;34m\u001b[0m\u001b[0;34m\u001b[0m\u001b[0m\n\u001b[0;32m----> 2\u001b[0;31m     \u001b[0mprint\u001b[0m\u001b[0;34m(\u001b[0m\u001b[0mstats\u001b[0m\u001b[0;34m.\u001b[0m\u001b[0mttest_rel\u001b[0m\u001b[0;34m(\u001b[0m\u001b[0mA_po\u001b[0m\u001b[0;34m[\u001b[0m\u001b[0mi\u001b[0m\u001b[0;34m,\u001b[0m\u001b[0;34m:\u001b[0m\u001b[0;34m]\u001b[0m\u001b[0;34m,\u001b[0m \u001b[0mA_pr\u001b[0m\u001b[0;34m[\u001b[0m\u001b[0mi\u001b[0m\u001b[0;34m,\u001b[0m\u001b[0;34m:\u001b[0m\u001b[0;34m]\u001b[0m\u001b[0;34m)\u001b[0m\u001b[0;34m)\u001b[0m\u001b[0;34m\u001b[0m\u001b[0;34m\u001b[0m\u001b[0m\n\u001b[0m",
      "\u001b[0;31mAttributeError\u001b[0m: module 'statsmodels.stats' has no attribute 'ttest_rel'"
     ]
    }
   ],
   "source": [
    "for i in range(0,len(epochs.info['ch_names'])):\n",
    "    print(stats.ttest_rel(A_po[i,:], A_pr[i,:]))"
   ]
  },
  {
   "cell_type": "code",
   "execution_count": 24,
   "metadata": {},
   "outputs": [
    {
     "ename": "AttributeError",
     "evalue": "module 'statsmodels.stats' has no attribute 'weightstats'",
     "output_type": "error",
     "traceback": [
      "\u001b[0;31m---------------------------------------------------------------------------\u001b[0m",
      "\u001b[0;31mAttributeError\u001b[0m                            Traceback (most recent call last)",
      "\u001b[0;32m<ipython-input-24-ee4d6546ce03>\u001b[0m in \u001b[0;36m<module>\u001b[0;34m\u001b[0m\n\u001b[1;32m      1\u001b[0m \u001b[0;32mimport\u001b[0m \u001b[0mstatsmodels\u001b[0m\u001b[0;34m\u001b[0m\u001b[0;34m\u001b[0m\u001b[0m\n\u001b[0;32m----> 2\u001b[0;31m \u001b[0mtstat\u001b[0m\u001b[0;34m,\u001b[0m \u001b[0mpval\u001b[0m\u001b[0;34m,\u001b[0m \u001b[0mdf\u001b[0m \u001b[0;34m=\u001b[0m \u001b[0mstatsmodels\u001b[0m\u001b[0;34m.\u001b[0m\u001b[0mstats\u001b[0m\u001b[0;34m.\u001b[0m\u001b[0mweightstats\u001b[0m\u001b[0;34m.\u001b[0m\u001b[0mttest_ind\u001b[0m\u001b[0;34m(\u001b[0m\u001b[0mA_po\u001b[0m\u001b[0;34m,\u001b[0m \u001b[0mA_pr\u001b[0m\u001b[0;34m)\u001b[0m\u001b[0;34m\u001b[0m\u001b[0;34m\u001b[0m\u001b[0m\n\u001b[0m",
      "\u001b[0;31mAttributeError\u001b[0m: module 'statsmodels.stats' has no attribute 'weightstats'"
     ]
    }
   ],
   "source": [
    "tstat, pval, df = stats.weightstats.ttest_ind(A_po, A_pr)"
   ]
  },
  {
   "cell_type": "code",
   "execution_count": 30,
   "metadata": {},
   "outputs": [
    {
     "name": "stderr",
     "output_type": "stream",
     "text": [
      "/home/guime/anaconda3/envs/neuro/lib/python3.7/site-packages/statsmodels/stats/weightstats.py:138: RuntimeWarning: invalid value encountered in subtract\n",
      "  return self.data - self.mean\n",
      "/home/guime/anaconda3/envs/neuro/lib/python3.7/site-packages/statsmodels/stats/weightstats.py:617: RuntimeWarning: invalid value encountered in subtract\n",
      "  tstat = (value1 - value2 - diff) / std_diff\n",
      "/home/guime/anaconda3/envs/neuro/lib/python3.7/site-packages/scipy/stats/_distn_infrastructure.py:903: RuntimeWarning: invalid value encountered in greater\n",
      "  return (a < x) & (x < b)\n",
      "/home/guime/anaconda3/envs/neuro/lib/python3.7/site-packages/scipy/stats/_distn_infrastructure.py:903: RuntimeWarning: invalid value encountered in less\n",
      "  return (a < x) & (x < b)\n",
      "/home/guime/anaconda3/envs/neuro/lib/python3.7/site-packages/scipy/stats/_distn_infrastructure.py:1912: RuntimeWarning: invalid value encountered in less_equal\n",
      "  cond2 = cond0 & (x <= _a)\n"
     ]
    }
   ],
   "source": [
    "from statsmodels.stats.weightstats import ttest_ind\n",
    "tstat, pval, df = ttest_ind(A_po, A_pr)"
   ]
  },
  {
   "cell_type": "code",
   "execution_count": 32,
   "metadata": {},
   "outputs": [
    {
     "name": "stdout",
     "output_type": "stream",
     "text": [
      "(nan, nan, 400.0)\n",
      "(16.822049744697136, 2.092563048579085e-48, 400.0)\n",
      "(8.021464886474083, 1.1678278745368307e-14, 400.0)\n",
      "(8.864790453734239, 2.5579049924034334e-17, 400.0)\n",
      "(10.081229938312651, 1.8978194638779853e-21, 400.0)\n",
      "(11.359155270163257, 4.16501740543752e-26, 400.0)\n",
      "(15.226019385310524, 1.2830070732327457e-41, 400.0)\n",
      "(9.808771718322177, 1.7022424998140094e-20, 400.0)\n",
      "(1.0355929982762822, 0.30101771636414204, 400.0)\n",
      "(10.609749309238516, 2.4431930963433113e-23, 400.0)\n",
      "(9.717504575684158, 3.5215020979133605e-20, 400.0)\n",
      "(19.017402965805683, 6.618598106401084e-58, 400.0)\n",
      "(10.619814197643594, 2.2461680146799834e-23, 400.0)\n",
      "(3.7253497677727743, 0.0002230856167114153, 400.0)\n",
      "(13.814046299907194, 9.19634310619547e-36, 400.0)\n",
      "(3.8125379579461187, 0.00015923016979255253, 400.0)\n",
      "(1.1636590587522733, 0.24525585685928347, 400.0)\n",
      "(10.766721097847944, 6.551443281876687e-24, 400.0)\n",
      "(7.050151373624902, 7.890977563791457e-12, 400.0)\n",
      "(1.0189033431876895, 0.3088647175181714, 400.0)\n",
      "(6.054005379517497, 3.2560355816710703e-09, 400.0)\n",
      "(2.816155888193763, 0.00510081885487268, 400.0)\n",
      "(6.725763268548252, 6.054490732818549e-11, 400.0)\n",
      "(1.4358233851315771, 0.15183414411243462, 400.0)\n",
      "(-0.9106572923540783, 0.36302440924888835, 400.0)\n",
      "(4.9016660955259255, 1.3835542301671088e-06, 400.0)\n",
      "(6.572699338633042, 1.544126726719211e-10, 400.0)\n",
      "(5.909616577161146, 7.3467594043176774e-09, 400.0)\n",
      "(9.125269371152397, 3.5594111407029726e-18, 400.0)\n",
      "(10.179173719446647, 8.551997159797578e-22, 400.0)\n",
      "(11.211750282292764, 1.4852969652060392e-25, 400.0)\n",
      "(4.0696439158537645, 5.675086289092486e-05, 400.0)\n",
      "(-3.058667101345649, 0.002372787441442033, 400.0)\n",
      "(3.099806844539938, 0.002073429039897442, 400.0)\n",
      "(7.242092479318736, 2.2853799525433482e-12, 400.0)\n",
      "(5.309348908639455, 1.828529744133281e-07, 400.0)\n",
      "(3.878614545742732, 0.0001227951339889313, 400.0)\n",
      "(9.988197176270223, 4.029907180652e-21, 400.0)\n",
      "(9.809694292655129, 1.689744958698673e-20, 400.0)\n",
      "(3.304024067768723, 0.0010389449185165866, 400.0)\n",
      "(-4.4892633537452795, 9.36012851169559e-06, 400.0)\n",
      "(3.745346408047907, 0.00020660033120077512, 400.0)\n",
      "(4.551596498916442, 7.073544344511476e-06, 400.0)\n",
      "(5.072451209305122, 6.022273446085759e-07, 400.0)\n",
      "(4.309042911736481, 2.066290835945813e-05, 400.0)\n",
      "(2.1278147401681298, 0.033963419964658965, 400.0)\n",
      "(-0.6838564488898573, 0.4944617821304633, 400.0)\n",
      "(1.925938527204922, 0.05482048013334486, 400.0)\n",
      "(-1.692310063243811, 0.09136559700106762, 400.0)\n",
      "(34.20481763168762, 7.904617388304676e-121, 400.0)\n",
      "(30.924543599895916, 4.1224775868096404e-108, 400.0)\n",
      "(39.8675541825822, 2.0688615448659235e-141, 400.0)\n",
      "(42.158460106579966, 2.9606771077589822e-149, 400.0)\n",
      "(8.756548398168745, 5.742309105262746e-17, 400.0)\n",
      "(-2.408877443046624, 0.01645287917570264, 400.0)\n",
      "(4.287072310862018, 2.2715463712239182e-05, 400.0)\n",
      "(9.993373084888944, 3.864971190975667e-21, 400.0)\n",
      "(44.65666440520356, 1.6572554612753025e-157, 400.0)\n",
      "(48.466893502042595, 1.623282236402219e-169, 400.0)\n",
      "(41.65984247860046, 1.43146909228665e-147, 400.0)\n",
      "(35.27228260424213, 7.680463080217386e-125, 400.0)\n",
      "(33.069328939935794, 1.714761134336802e-116, 400.0)\n",
      "(2.1243346703264323, 0.03425501102946079, 400.0)\n",
      "(4.816746486756139, 2.0741765346598893e-06, 400.0)\n",
      "(9.634242870458845, 6.810841311773232e-20, 400.0)\n",
      "(-0.29890487206861555, 0.7651678581206547, 400.0)\n",
      "(5.935135884289883, 6.369765382443958e-09, 400.0)\n",
      "(1.9497382632574232, 0.05190568258227595, 400.0)\n",
      "(-2.160793793437638, 0.03130430004798134, 400.0)\n",
      "(4.732102999339502, 3.0875624193976075e-06, 400.0)\n",
      "(9.43941238510699, 3.145518058462703e-19, 400.0)\n",
      "(0.7551630977969357, 0.450595537891765, 400.0)\n",
      "(5.652434839782614, 3.0116767893085155e-08, 400.0)\n",
      "(5.728712766476435, 1.992243283126475e-08, 400.0)\n",
      "(0.8492481885127565, 0.3962511767965444, 400.0)\n",
      "(10.196270529529523, 7.43775677430724e-22, 400.0)\n",
      "(4.354673082764919, 1.6951788275211067e-05, 400.0)\n",
      "(5.30830448610057, 1.838341447710763e-07, 400.0)\n",
      "(3.917047383253324, 0.00010539284143146664, 400.0)\n",
      "(4.009357675526459, 7.264335931773476e-05, 400.0)\n",
      "(8.555193966068847, 2.5400973644545415e-16, 400.0)\n",
      "(-4.934391359237925, 1.181842266887672e-06, 400.0)\n",
      "(-7.749820514676537, 7.673442362965495e-14, 400.0)\n",
      "(9.414056002006244, 3.8332032413182325e-19, 400.0)\n",
      "(6.174158065137089, 1.6349876744458533e-09, 400.0)\n",
      "(3.2287169208374498, 0.0013460690189302216, 400.0)\n",
      "(10.19033894187913, 7.806961657673715e-22, 400.0)\n",
      "(3.899375113777061, 0.00011308281601239099, 400.0)\n",
      "(2.8981527315983353, 0.003960245426789588, 400.0)\n",
      "(8.739143538381114, 6.535751375031534e-17, 400.0)\n",
      "(4.5375852992030055, 7.535300071571072e-06, 400.0)\n",
      "(17.576698718775884, 1.1740297925654848e-51, 400.0)\n",
      "(13.88495949670744, 4.718985008581891e-36, 400.0)\n",
      "(11.160332952348464, 2.3097822477213013e-25, 400.0)\n",
      "(5.559418350374183, 4.955132165131692e-08, 400.0)\n",
      "(3.5233591312101686, 0.00047531857292746737, 400.0)\n",
      "(5.30896218575033, 1.8321568278158525e-07, 400.0)\n",
      "(77.40544946781473, 8.028447032987322e-243, 400.0)\n",
      "(35.303729084710376, 5.863065791541787e-125, 400.0)\n",
      "(25.28459931784492, 5.866493357163853e-85, 400.0)\n",
      "(27.539577288799094, 2.139012185170768e-94, 400.0)\n",
      "(30.026177178512913, 1.5786978791819644e-104, 400.0)\n",
      "(26.004412284753446, 5.39424321877937e-88, 400.0)\n",
      "(23.568556618267362, 1.2178804310871204e-77, 400.0)\n",
      "(6.022857170242787, 3.885927042072692e-09, 400.0)\n",
      "(11.19688620072267, 1.6876949860855252e-25, 400.0)\n",
      "(12.176713862831424, 3.1222454494828487e-29, 400.0)\n",
      "(12.033976414657339, 1.1152025472991718e-28, 400.0)\n",
      "(7.760527007705195, 7.130841888667208e-14, 400.0)\n",
      "(7.148443882226008, 4.1963014404231265e-12, 400.0)\n",
      "(7.348197919400144, 1.1400096274498706e-12, 400.0)\n",
      "(8.142013586611466, 4.9920390982210894e-15, 400.0)\n",
      "(6.0270985787855125, 3.793625278715161e-09, 400.0)\n",
      "(4.592511910646848, 5.875434733670124e-06, 400.0)\n",
      "(5.364685047757801, 1.3754197502428988e-07, 400.0)\n",
      "(6.666005835424128, 8.743112705951041e-11, 400.0)\n",
      "(6.065897873616709, 3.0428644349561065e-09, 400.0)\n",
      "(9.684983197212153, 4.5582496640325393e-20, 400.0)\n",
      "(7.6558333275079, 1.4562644713642462e-13, 400.0)\n",
      "(4.46482684012453, 1.0437420938112268e-05, 400.0)\n",
      "(2.7673461211037873, 0.005913888825415186, 400.0)\n",
      "(6.968399409316321, 1.3276756454547665e-11, 400.0)\n",
      "(4.636852283005173, 4.797635983197938e-06, 400.0)\n",
      "(9.931742465666744, 6.3517219353800554e-21, 400.0)\n",
      "(8.486397866347483, 4.199519653326504e-16, 400.0)\n",
      "(8.741091681273017, 6.441805945535533e-17, 400.0)\n",
      "(11.017521748553593, 7.83077922785806e-25, 400.0)\n",
      "(10.932379262535266, 1.6152495277546628e-24, 400.0)\n",
      "(nan, nan, 400.0)\n",
      "(nan, nan, 400.0)\n",
      "(11.395975267311915, 3.027772064976099e-26, 400.0)\n",
      "(3.227643873657906, 0.0013509979724439427, 400.0)\n",
      "(8.084612406500101, 7.490409332343092e-15, 400.0)\n",
      "(8.014475650086169, 1.226483757276955e-14, 400.0)\n",
      "(7.950858255814001, 1.9133296729822192e-14, 400.0)\n",
      "(5.880130281963495, 8.658432406530436e-09, 400.0)\n",
      "(-1.0498816142823049, 0.2944064362566618, 400.0)\n",
      "(2.8300466462606226, 0.004888734911620563, 400.0)\n",
      "(1.1614210783384369, 0.2461632861592153, 400.0)\n",
      "(-1.4050682604206364, 0.16077711106994044, 400.0)\n",
      "(-0.9883501924557347, 0.3235786399072149, 400.0)\n",
      "(0.11791595473835402, 0.9061934392796386, 400.0)\n",
      "(11.986716036866692, 1.697315130980361e-28, 400.0)\n",
      "(-3.8861888445604866, 0.00011916364309679727, 400.0)\n",
      "(1.7114205100671975, 0.08777870803739653, 400.0)\n",
      "(40.34874840941729, 4.4214750861282505e-143, 400.0)\n",
      "(28.22809365959042, 3.120900176476207e-97, 400.0)\n",
      "(26.925968887341362, 7.52215978992928e-92, 400.0)\n",
      "(12.804417626398967, 1.0707847100194782e-31, 400.0)\n",
      "(2.9194590139284964, 0.003704659490311331, 400.0)\n",
      "(14.395674477269717, 3.737661270187027e-38, 400.0)\n"
     ]
    },
    {
     "name": "stderr",
     "output_type": "stream",
     "text": [
      "/home/guime/anaconda3/envs/neuro/lib/python3.7/site-packages/statsmodels/stats/weightstats.py:617: RuntimeWarning: invalid value encountered in double_scalars\n",
      "  tstat = (value1 - value2 - diff) / std_diff\n"
     ]
    }
   ],
   "source": [
    "for i in range(0,len(epochs.info['ch_names'])):\n",
    "    print(ttest_ind(A_po[i,:], A_pr[i,:]))"
   ]
  },
  {
   "cell_type": "code",
   "execution_count": 87,
   "metadata": {},
   "outputs": [
    {
     "data": {
      "text/plain": [
       "['Event',\n",
       " 'LGRD1',\n",
       " 'LGRD2',\n",
       " 'LGRD3',\n",
       " 'LGRD4',\n",
       " 'LGRD5',\n",
       " 'LGRD6',\n",
       " 'LGRD7',\n",
       " 'LGRD8',\n",
       " 'LGRD9',\n",
       " 'LGRD10',\n",
       " 'LGRD11',\n",
       " 'LGRD12',\n",
       " 'LGRD13',\n",
       " 'LGRD14',\n",
       " 'LGRD15',\n",
       " 'LGRD16',\n",
       " 'LGRD17',\n",
       " 'LGRD18',\n",
       " 'LGRD19',\n",
       " 'LGRD20',\n",
       " 'LGRD21',\n",
       " 'LGRD22',\n",
       " 'LGRD23',\n",
       " 'LGRD24',\n",
       " 'LGRD25',\n",
       " 'LGRD26',\n",
       " 'LGRD27',\n",
       " 'LGRD28',\n",
       " 'LGRD29',\n",
       " 'LGRD30',\n",
       " 'LGRD31',\n",
       " 'LGRD32',\n",
       " 'LGRD33',\n",
       " 'LGRD34',\n",
       " 'LGRD35',\n",
       " 'LGRD36',\n",
       " 'LGRD37',\n",
       " 'LGRD38',\n",
       " 'LGRD39',\n",
       " 'LGRD40',\n",
       " 'LGRD41',\n",
       " 'LGRD42',\n",
       " 'LGRD43',\n",
       " 'LGRD44',\n",
       " 'LGRD45',\n",
       " 'LGRD46',\n",
       " 'LGRD47',\n",
       " 'LGRD48',\n",
       " 'LGRD49',\n",
       " 'LGRD50',\n",
       " 'LGRD51',\n",
       " 'LGRD52',\n",
       " 'LGRD53',\n",
       " 'LGRD54',\n",
       " 'LGRD55',\n",
       " 'LGRD56',\n",
       " 'LGRD57',\n",
       " 'LGRD58',\n",
       " 'LGRD59',\n",
       " 'LGRD60',\n",
       " 'LGRD61',\n",
       " 'LGRD62',\n",
       " 'LGRD63',\n",
       " 'LGRD64',\n",
       " 'LFo1',\n",
       " 'LFo2',\n",
       " 'LFo3',\n",
       " 'LFo4',\n",
       " 'LFa1',\n",
       " 'LFa2',\n",
       " 'LFa3',\n",
       " 'LFa4',\n",
       " 'LFa5',\n",
       " 'LFa6',\n",
       " 'LFp1',\n",
       " 'LFp2',\n",
       " 'LFp3',\n",
       " 'LFp4',\n",
       " 'LFp5',\n",
       " 'LFp6',\n",
       " 'LFp7',\n",
       " 'LFp8',\n",
       " 'LTa1',\n",
       " 'LTa2',\n",
       " 'LTa3',\n",
       " 'LTa4',\n",
       " 'LTm1',\n",
       " 'LTm2',\n",
       " 'LTm3',\n",
       " 'LTm4',\n",
       " 'LTm5',\n",
       " 'LTm6',\n",
       " 'LTx1',\n",
       " 'LTx2',\n",
       " 'LTx3',\n",
       " 'LTx4',\n",
       " 'LTo1',\n",
       " 'LTo2',\n",
       " 'LTo3',\n",
       " 'LTo4',\n",
       " 'LTo5',\n",
       " 'LTo6',\n",
       " 'LTo7',\n",
       " 'LTo8',\n",
       " 'Da1',\n",
       " 'Da2',\n",
       " 'Da3',\n",
       " 'Da4',\n",
       " 'Da5',\n",
       " 'Da6',\n",
       " 'Da7',\n",
       " 'Da8',\n",
       " 'Da9',\n",
       " 'Da10',\n",
       " 'Di1',\n",
       " 'Di2',\n",
       " 'Di3',\n",
       " 'Di4',\n",
       " 'Di5',\n",
       " 'Di6',\n",
       " 'Di7',\n",
       " 'Di8',\n",
       " 'Dh1',\n",
       " 'Dh2',\n",
       " 'Dh3',\n",
       " 'Dh4',\n",
       " 'Dh5',\n",
       " 'OSAT',\n",
       " 'PR',\n",
       " 'Dh6',\n",
       " 'Dh7',\n",
       " 'Dh8',\n",
       " 'Dh9',\n",
       " 'Dh10',\n",
       " 'Dp1',\n",
       " 'Dp2',\n",
       " 'Dp3',\n",
       " 'Dp4',\n",
       " 'Dp5',\n",
       " 'Dp6',\n",
       " 'Dp7',\n",
       " 'Dp8',\n",
       " 'LTp1',\n",
       " 'LTp2',\n",
       " 'LTp3',\n",
       " 'LTp4',\n",
       " 'LTp5',\n",
       " 'LTp6',\n",
       " 'ECG',\n",
       " 'TRIG']"
      ]
     },
     "execution_count": 87,
     "metadata": {},
     "output_type": "execute_result"
    }
   ],
   "source": [
    "raw.info['ch_names']"
   ]
  }
 ],
 "metadata": {
  "kernelspec": {
   "display_name": "Python 3",
   "language": "python",
   "name": "python3"
  },
  "language_info": {
   "codemirror_mode": {
    "name": "ipython",
    "version": 3
   },
   "file_extension": ".py",
   "mimetype": "text/x-python",
   "name": "python",
   "nbconvert_exporter": "python",
   "pygments_lexer": "ipython3",
   "version": "3.7.7"
  }
 },
 "nbformat": 4,
 "nbformat_minor": 4
}
