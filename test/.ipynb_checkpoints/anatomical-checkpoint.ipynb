{
 "cells": [
  {
   "cell_type": "code",
   "execution_count": 1,
   "metadata": {},
   "outputs": [],
   "source": [
    "from mne_bids import make_bids_basename\n",
    "from pathlib import Path, PurePath\n",
    "import mne\n",
    "import os\n",
    "import matplotlib.pyplot as plt\n",
    "import pandas as pd\n",
    "import matlab.engine\n",
    "import numpy as np\n",
    "import scipy as sp\n",
    "import scipy.io\n",
    "pd.options.display.html.table_schema = True\n",
    "pd.options.display.max_rows = None\n",
    "from mne.time_frequency import psd_multitaper"
   ]
  },
  {
   "cell_type": "code",
   "execution_count": 157,
   "metadata": {},
   "outputs": [
    {
     "name": "stdout",
     "output_type": "stream",
     "text": [
      "Using matplotlib backend: Qt5Agg\n"
     ]
    }
   ],
   "source": [
    "%matplotlib "
   ]
  },
  {
   "cell_type": "code",
   "execution_count": 45,
   "metadata": {},
   "outputs": [],
   "source": [
    "subpath = Path('~','projects','CIFAR','data_bids', 'sub-08' ).expanduser()"
   ]
  },
  {
   "cell_type": "code",
   "execution_count": 46,
   "metadata": {},
   "outputs": [],
   "source": [
    "subpath = Path('~','projects','CIFAR','data_bids', 'sub-08' ).expanduser()\n",
    "elecinfo = subpath.joinpath('anat','electrodes_info.csv')\n",
    "dfelec = pd.read_csv(elecinfo)\n",
    "ROIs = dfelec['Brodman'].unique()\n",
    "nROIs = len(ROIs)"
   ]
  },
  {
   "cell_type": "code",
   "execution_count": 49,
   "metadata": {},
   "outputs": [
    {
     "name": "stdout",
     "output_type": "stream",
     "text": [
      "['BA2' 'MT' 'V2' 'BA1' 'V1' 'BA3b' 'BA6' 'BA44' 'BA45' 'BA4a' 'perirhinal']\n",
      "['BA45' 'perirhinal' 'BA44' 'MT' 'V2' 'V1' 'BA3a']\n",
      "['BA1' 'BA2' 'BA3b' 'perirhinal' 'BA6' 'BA44' 'BA45' 'V2' 'MT' 'BA3a']\n",
      "['MT' 'V2' 'BA2' 'BA6' 'perirhinal' 'BA45' 'BA44' 'BA3b']\n",
      "['BA2' 'BA3b' 'BA6' 'MT' 'BA1' 'BA4a' 'BA3a' 'BA45' 'BA44' 'perirhinal'\n",
      " 'V2' 'V1']\n",
      "['BA3a' 'BA44' 'perirhinal' 'MT' 'BA45' 'BA6' 'V2' 'BA2' 'BA3b' 'BA1']\n",
      "['MT' 'V2' 'V1' 'BA2' 'BA1' 'BA44' 'BA45' 'BA3b' 'BA6' 'BA4a' 'BA4p'\n",
      " 'BA3a' 'perirhinal']\n",
      "['MT' 'perirhinal' 'BA44' 'BA6' 'BA45' 'BA3a' 'BA2' 'V2' 'BA4a' 'BA3b'\n",
      " 'BA1']\n",
      "['MT' 'V2' 'perirhinal' 'V1' 'BA44' 'BA45' 'BA3b' 'BA6' 'BA2' 'BA1']\n"
     ]
    }
   ],
   "source": [
    "for i in range(0,9):\n",
    "    subpath = Path('~','projects','CIFAR','data_bids', f'sub-0{i}' ).expanduser()\n",
    "    elecinfo = subpath.joinpath('anat','electrodes_info.csv')\n",
    "    dfelec = pd.read_csv(elecinfo)\n",
    "    ROIs = dfelec['Brodman'].unique()\n",
    "    nROIs = len(ROIs)\n",
    "    print(ROIs)"
   ]
  },
  {
   "cell_type": "code",
   "execution_count": 66,
   "metadata": {},
   "outputs": [
    {
     "data": {
      "text/plain": [
       "8"
      ]
     },
     "execution_count": 66,
     "metadata": {},
     "output_type": "execute_result"
    }
   ],
   "source": [
    "len(dfelec['isdepth'].loc[dfelec['Brodman']=='V2'].loc[dfelec['isdepth']==0])"
   ]
  },
  {
   "cell_type": "code",
   "execution_count": 53,
   "metadata": {},
   "outputs": [
    {
     "data": {
      "text/plain": [
       "[]"
      ]
     },
     "execution_count": 53,
     "metadata": {},
     "output_type": "execute_result"
    }
   ],
   "source": [
    "ROI_info = {'Brodman': [], 'ndepth': [], 'nGrid/strip': []}\n",
    "ROI_info['Brodman']"
   ]
  },
  {
   "cell_type": "code",
   "execution_count": 122,
   "metadata": {},
   "outputs": [],
   "source": [
    "for ROI in ROIs: \n",
    "    ROI_info['Brodman'].append(ROI)\n",
    "    ROI_info['ndepth'].append(len(dfelec['isdepth'].loc[dfelec['Brodman']==ROI].loc[dfelec['isdepth']==1]))\n",
    "    ROI_info['nsurface'].append(len(dfelec['isdepth'].loc[dfelec['Brodman']==ROI].loc[dfelec['isdepth']==0]))\n",
    "    ROI_info['n_lh'].append(len(dfelec['hemisphere'].loc[dfelec['Brodman']==ROI].loc[dfelec['hemisphere']=='lh']))\n",
    "    ROI_info['n_rh'].append(len(dfelec['hemisphere'].loc[dfelec['Brodman']==ROI].loc[dfelec['hemisphere']=='rh']))"
   ]
  },
  {
   "cell_type": "code",
   "execution_count": 138,
   "metadata": {},
   "outputs": [],
   "source": [
    "#Per subjects\n",
    "column_names = ['Brodman', 'ndepth', 'nsurface', 'n_lh', 'n_rh']\n",
    "dfsub = pd.DataFrame(columns = column_names)\n",
    "for i in range(0,9):\n",
    "    subpath = Path('~','projects','CIFAR','data_bids', f'sub-0{i}' ).expanduser()\n",
    "    elecinfo = subpath.joinpath('anat','electrodes_info.csv')\n",
    "    dfelec = pd.read_csv(elecinfo)\n",
    "    ROIs = dfelec['Brodman'].unique()\n",
    "    nROIs = len(ROIs)\n",
    "    ROI_info = {'Brodman': [], 'ndepth': [], 'nsurface': [], 'n_lh': [], 'n_rh': []}\n",
    "    for ROI in ROIs: \n",
    "        ROI_info['Brodman'].append(ROI)\n",
    "        ROI_info['ndepth'].append(len(dfelec['isdepth'].loc[dfelec['Brodman']==ROI].loc[dfelec['isdepth']==1]))\n",
    "        ROI_info['nsurface'].append(len(dfelec['isdepth'].loc[dfelec['Brodman']==ROI].loc[dfelec['isdepth']==0]))\n",
    "        ROI_info['n_lh'].append(len(dfelec['hemisphere'].loc[dfelec['Brodman']==ROI].loc[dfelec['hemisphere']=='lh']))\n",
    "        ROI_info['n_rh'].append(len(dfelec['hemisphere'].loc[dfelec['Brodman']==ROI].loc[dfelec['hemisphere']=='rh']))\n",
    "    dfROI_info = pd.DataFrame(data=ROI_info)\n",
    "    dfsub = pd.concat([dfsub, dfROI_info])"
   ]
  },
  {
   "cell_type": "code",
   "execution_count": 147,
   "metadata": {},
   "outputs": [],
   "source": [
    "# Total \n",
    "dfROIs = {'Brodman': [], 'ndepth': [], 'nsurface': [], 'n_lh': [], 'n_rh': []}\n",
    "ROIs = dfsub['Brodman'].unique()\n",
    "for ROI in ROIs:\n",
    "    dfROIs['Brodman'].append(ROI)\n",
    "    dfROIs['ndepth'].append(sum(dfsub['ndepth'].loc[dfsub['Brodman']==ROI]))\n",
    "    dfROIs['nsurface'].append(sum(dfsub['nsurface'].loc[dfsub['Brodman']==ROI]))\n",
    "    dfROIs['n_lh'].append(sum(dfsub['n_lh'].loc[dfsub['Brodman']==ROI]))\n",
    "    dfROIs['n_rh'].append(sum(dfsub['n_rh'].loc[dfsub['Brodman']==ROI]))\n",
    "\n",
    "dfROIs = pd.DataFrame(data=dfROIs)"
   ]
  },
  {
   "cell_type": "code",
   "execution_count": 156,
   "metadata": {},
   "outputs": [
    {
     "data": {
      "text/plain": [
       "<matplotlib.axes._subplots.AxesSubplot at 0x7f9289328a10>"
      ]
     },
     "execution_count": 156,
     "metadata": {},
     "output_type": "execute_result"
    },
    {
     "data": {
      "image/png": "[encoded data removed]",
      "text/plain": [
       "<Figure size 432x288 with 1 Axes>"
      ]
     },
     "metadata": {
      "needs_background": "light"
     },
     "output_type": "display_data"
    }
   ],
   "source": [
    "dfROIs.plot(x='Brodman', y= ['nsurface','ndepth','n_lh','n_rh'], kind='bar', title='number of ECoG electordes per Brodman area summed over all subjects')"
   ]
  },
  {
   "cell_type": "code",
   "execution_count": 116,
   "metadata": {},
   "outputs": [],
   "source": [
    "for ROI in ROIs: \n",
    "    ROI_info = {'Brodman': [], 'ndepth': [], 'nsurface': [], 'n_lh': [], 'n_rh': []}\n",
    "    ROI_info['Brodman'].append(ROI)\n",
    "    ROI_info['ndepth'].append(len(dfelec['isdepth'].loc[dfelec['Brodman']==ROI].loc[dfelec['isdepth']==1]))\n",
    "    ROI_info['nsurface'].append(len(dfelec['isdepth'].loc[dfelec['Brodman']==ROI].loc[dfelec['isdepth']==0]))\n",
    "    ROI_info['n_lh'].append(len(dfelec['hemisphere'].loc[dfelec['Brodman']==ROI].loc[dfelec['hemisphere']=='lh']))\n",
    "    ROI_info['n_rh'].append(len(dfelec['hemisphere'].loc[dfelec['Brodman']==ROI].loc[dfelec['hemisphere']=='rh']))"
   ]
  },
  {
   "cell_type": "code",
   "execution_count": 141,
   "metadata": {},
   "outputs": [
    {
     "data": {
      "text/plain": [
       "13"
      ]
     },
     "execution_count": 141,
     "metadata": {},
     "output_type": "execute_result"
    }
   ],
   "source": [
    "len(dfsub['Brodman'].unique())"
   ]
  },
  {
   "cell_type": "code",
   "execution_count": 137,
   "metadata": {},
   "outputs": [
    {
     "data": {
      "text/plain": [
       "array(['BA2', 'MT', 'V2', 'BA1', 'V1', 'BA3b', 'BA6', 'BA44', 'BA45',\n",
       "       'BA4a', 'perirhinal', 11, 'BA3a', 7, 10, 8, 12, 'BA4p', 13],\n",
       "      dtype=object)"
      ]
     },
     "execution_count": 137,
     "metadata": {},
     "output_type": "execute_result"
    }
   ],
   "source": [
    "dfsub['Brodman'].unique()"
   ]
  },
  {
   "cell_type": "code",
   "execution_count": 54,
   "metadata": {},
   "outputs": [
    {
     "data": {
      "application/vnd.dataresource+json": {
       "data": [],
       "schema": {
        "fields": [
         {
          "name": "index",
          "type": "integer"
         },
         {
          "name": "Brodman",
          "type": "string"
         }
        ],
        "pandas_version": "0.20.0",
        "primaryKey": [
         "index"
        ]
       }
      },
      "text/plain": [
       "Series([], Name: Brodman, dtype: object)"
      ]
     },
     "execution_count": 54,
     "metadata": {},
     "output_type": "execute_result"
    }
   ],
   "source": [
    "dfelec['Brodman'].loc[dfelec['electrode_name'] == 'RTo7']"
   ]
  },
  {
   "cell_type": "code",
   "execution_count": 7,
   "metadata": {},
   "outputs": [
    {
     "data": {
      "application/vnd.dataresource+json": {
       "data": [
        {
         "electrode_name": "RIa14",
         "index": 26
        },
        {
         "electrode_name": "RIa13",
         "index": 27
        },
        {
         "electrode_name": "RIa12",
         "index": 28
        },
        {
         "electrode_name": "RIa11",
         "index": 29
        },
        {
         "electrode_name": "RIa10",
         "index": 30
        },
        {
         "electrode_name": "RIa9",
         "index": 31
        },
        {
         "electrode_name": "RIa8",
         "index": 32
        }
       ],
       "schema": {
        "fields": [
         {
          "name": "index",
          "type": "integer"
         },
         {
          "name": "electrode_name",
          "type": "string"
         }
        ],
        "pandas_version": "0.20.0",
        "primaryKey": [
         "index"
        ]
       }
      },
      "text/plain": [
       "26    RIa14\n",
       "27    RIa13\n",
       "28    RIa12\n",
       "29    RIa11\n",
       "30    RIa10\n",
       "31     RIa9\n",
       "32     RIa8\n",
       "Name: electrode_name, dtype: object"
      ]
     },
     "execution_count": 7,
     "metadata": {},
     "output_type": "execute_result"
    }
   ],
   "source": [
    "dfelec['electrode_name'].loc[dfelec['Brodman'] == 'BA45']"
   ]
  },
  {
   "cell_type": "code",
   "execution_count": null,
   "metadata": {},
   "outputs": [],
   "source": [
    "# Channels to pick\n",
    "['RTo9-RTo10',  'RTo7-RTo8', 'RO1-RO2', 'RIp9-RIp10', 'RFp5-RFp6', 'RIa5-RIa6', 'RIa11-RIa12', 'RFPs9-RFPs10', 'RTp5-RTp6']"
   ]
  },
  {
   "cell_type": "code",
   "execution_count": null,
   "metadata": {},
   "outputs": [],
   "source": [
    "proc = 'BP'\n",
    "subid = 'JuRo'\n",
    "cfsubdir = Path('~','CIFAR_data','iEEG_10','subjects', subid, 'EEGLAB_datasets', 'bipolar_montage').expanduser()\n",
    "fname = helper.CIFAR_filename(subid=subid,task='rest_baseline',proc=proc)\n",
    "fpath = cfsubdir.joinpath(fname)\n",
    "fpath = os.fspath(fpath)\n",
    "raw = mne.io.read_raw_eeglab(fpath)"
   ]
  },
  {
   "cell_type": "code",
   "execution_count": null,
   "metadata": {},
   "outputs": [],
   "source": [
    "# ROIs table\n"
   ]
  }
 ],
 "metadata": {
  "kernelspec": {
   "display_name": "Python 3",
   "language": "python",
   "name": "python3"
  },
  "language_info": {
   "codemirror_mode": {
    "name": "ipython",
    "version": 3
   },
   "file_extension": ".py",
   "mimetype": "text/x-python",
   "name": "python",
   "nbconvert_exporter": "python",
   "pygments_lexer": "ipython3",
   "version": "3.7.7"
  }
 },
 "nbformat": 4,
 "nbformat_minor": 4
}
