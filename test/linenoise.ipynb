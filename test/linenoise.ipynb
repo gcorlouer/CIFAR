{
 "cells": [
  {
   "cell_type": "code",
   "execution_count": 1,
   "metadata": {},
   "outputs": [],
   "source": [
    "from mne_bids import make_bids_basename\n",
    "from pathlib import Path, PurePath\n",
    "import mne\n",
    "import os\n",
    "import matplotlib.pyplot as plt\n",
    "import pandas as pd\n",
    "import matlab.engine\n",
    "import numpy as np\n",
    "import scipy as sp\n",
    "import scipy.io\n",
    "pd.options.display.html.table_schema = True\n",
    "pd.options.display.max_rows = None"
   ]
  },
  {
   "cell_type": "code",
   "execution_count": null,
   "metadata": {},
   "outputs": [],
   "source": []
  },
  {
   "cell_type": "code",
   "execution_count": 4,
   "metadata": {},
   "outputs": [],
   "source": [
    "subpath = Path('data_bids', 'sub-00' )\n",
    "bids_basename = make_bids_basename(subject='00',\n",
    "                                   task='rest', run='01', suffix='ieeg.vhdr')\n",
    "fname = subpath.joinpath('ieeg', bids_basename)"
   ]
  },
  {
   "cell_type": "code",
   "execution_count": 6,
   "metadata": {},
   "outputs": [
    {
     "name": "stdout",
     "output_type": "stream",
     "text": [
      "Extracting parameters from data_bids/sub-00/ieeg/sub-00_task-rest_run-01_ieeg.vhdr...\n",
      "Setting channel info structure...\n",
      "Reading 0 ... 104998  =      0.000 ...   209.891 secs...\n"
     ]
    }
   ],
   "source": [
    "raw = mne.io.read_raw_brainvision(fname, preload=True)"
   ]
  },
  {
   "cell_type": "code",
   "execution_count": 7,
   "metadata": {},
   "outputs": [],
   "source": [
    "# Drop bad channels\n",
    "raw.set_channel_types({'ECG': 'ecg'})\n",
    "bads = ['TRIG', 'ECG', 'P3', 'T5', 'T3', 'F3', 'F7'] # This is specific to subject 00\n",
    "raw.info['bads'] = bads\n",
    "raw_bad = raw.copy().pick_types(eeg=True, ecog=True, exclude = 'bads')"
   ]
  },
  {
   "cell_type": "code",
   "execution_count": 9,
   "metadata": {},
   "outputs": [],
   "source": [
    "# Get data in list\n",
    "data = raw_bad.get_data()\n",
    "datalist = data.tolist()"
   ]
  },
  {
   "cell_type": "code",
   "execution_count": 10,
   "metadata": {},
   "outputs": [],
   "source": [
    "datamat = matlab.double(data.tolist())"
   ]
  },
  {
   "cell_type": "code",
   "execution_count": 11,
   "metadata": {},
   "outputs": [
    {
     "data": {
      "text/plain": [
       "matlab.double([[121.0,104999.0]])"
      ]
     },
     "execution_count": 11,
     "metadata": {},
     "output_type": "execute_result"
    }
   ],
   "source": [
    "eng.size(datamat)"
   ]
  },
  {
   "cell_type": "code",
   "execution_count": null,
   "metadata": {},
   "outputs": [],
   "source": []
  },
  {
   "cell_type": "code",
   "execution_count": null,
   "metadata": {},
   "outputs": [],
   "source": []
  }
 ],
 "metadata": {
  "kernelspec": {
   "display_name": "Python 3",
   "language": "python",
   "name": "python3"
  },
  "language_info": {
   "codemirror_mode": {
    "name": "ipython",
    "version": 3
   },
   "file_extension": ".py",
   "mimetype": "text/x-python",
   "name": "python",
   "nbconvert_exporter": "python",
   "pygments_lexer": "ipython3",
   "version": "3.7.7"
  }
 },
 "nbformat": 4,
 "nbformat_minor": 4
}
