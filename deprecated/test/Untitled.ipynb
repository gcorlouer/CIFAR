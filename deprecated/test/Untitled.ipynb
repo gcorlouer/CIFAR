{
 "cells": [
  {
   "cell_type": "code",
   "execution_count": 12,
   "metadata": {},
   "outputs": [],
   "source": [
    "import os\n",
    "from pathlib import Path, PurePath\n",
    "from shutil import copy"
   ]
  },
  {
   "cell_type": "code",
   "execution_count": 15,
   "metadata": {},
   "outputs": [],
   "source": [
    "datadir=Path('~', 'projects' ,'CIFAR','data_bids').expanduser()\n",
    "jason_dir =Path('~', 'CIFAR_electrodes_info').expanduser()\n",
    "os.chdir(jason_dir)\n",
    "for i in range(0,9):\n",
    "    subject = f'sub-0{i}'\n",
    "    elec_dir = datadir.joinpath(subject, 'anat', 'electrodes_info.csv')\n",
    "    os.rename('electrodes_info.csv', f'electrodes_info_subject_{i}.csv')\n",
    "    copy(elec_dir,jason_dir)"
   ]
  }
 ],
 "metadata": {
  "kernelspec": {
   "display_name": "Python 3",
   "language": "python",
   "name": "python3"
  },
  "language_info": {
   "codemirror_mode": {
    "name": "ipython",
    "version": 3
   },
   "file_extension": ".py",
   "mimetype": "text/x-python",
   "name": "python",
   "nbconvert_exporter": "python",
   "pygments_lexer": "ipython3",
   "version": "3.7.7"
  }
 },
 "nbformat": 4,
 "nbformat_minor": 4
}
