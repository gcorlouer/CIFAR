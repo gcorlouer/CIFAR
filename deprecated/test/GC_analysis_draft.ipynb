{
 "cells": [
  {
   "cell_type": "code",
   "execution_count": 1,
   "metadata": {},
   "outputs": [
    {
     "name": "stdout",
     "output_type": "stream",
     "text": [
      "Using matplotlib backend: Qt5Agg\n"
     ]
    }
   ],
   "source": [
    "import helper\n",
    "import mne\n",
    "import scipy.io\n",
    "import pandas as pd\n",
    "import numpy as np\n",
    "import matplotlib.pyplot as plt\n",
    "\n",
    "pd.options.display.html.table_schema = True\n",
    "pd.options.display.max_rows = None\n",
    "from pathlib import Path, PurePath\n",
    "\n",
    "%matplotlib\n",
    "plt.rcParams.update({'font.size': 14})"
   ]
  },
  {
   "cell_type": "code",
   "execution_count": 2,
   "metadata": {},
   "outputs": [],
   "source": [
    "# Parameters \n",
    "\n",
    "# Subject and task\n",
    "subject = 'DiAs'\n",
    "subject_id = '04'\n",
    "proc = 'raw'\n",
    "task = 'stimuli'\n",
    "run = '1'\n",
    "\n",
    "# High frequency bands \n",
    "l_freq = 60\n",
    "nband = 6 \n",
    "band_size = 20 \n",
    "\n",
    "# electrodes to pick \n",
    "\n",
    "picks = ['LGRD60-LGRD61', 'LGRD58-LGRD59','LGRD52-LGRD53', 'LTo7-LTo8', 'LTp3-LTp4', 'LTo5-LTo6', \n",
    "         'LTo1-LTo2', 'LTo3-LTo4', 'LGRD50-LGRD51', 'LGRD49-LGRD57']\n",
    "\n",
    "# Epoch parameter\n",
    "\n",
    "tmin = -0.5 # Prestimulus\n",
    "tmax = 1.75 # Poststimulus\n",
    "\n",
    "# Saving paramerters \n",
    "\n",
    "save2 = Path('~','projects','CIFAR','data_fun').expanduser()\n",
    "task_save = 'stimuli'\n",
    "suffix_place = '_epoch_place.mat'\n",
    "suffix_face = '_epoch_face.mat'"
   ]
  },
  {
   "cell_type": "code",
   "execution_count": 3,
   "metadata": {},
   "outputs": [
    {
     "name": "stdout",
     "output_type": "stream",
     "text": [
      "Reading /home/guime/CIFAR_data/iEEG_10/subjects/DiAs/EEGLAB_datasets/bipolar_montage/DiAs_freerecall_stimuli_1_preprocessed_BP_montage.fdt\n",
      "Reading 0 ... 69107  =      0.000 ...   138.214 secs...\n"
     ]
    },
    {
     "name": "stderr",
     "output_type": "stream",
     "text": [
      "/home/guime/projects/CIFAR/new_code/test/helper.py:31: RuntimeWarning: Limited 2 annotation(s) that were expanding outside the data range.\n",
      "  raw = mne.io.read_raw_eeglab(fpath, preload=load)\n",
      "/home/guime/projects/CIFAR/new_code/test/helper.py:31: RuntimeWarning: The data contains 'boundary' events, indicating data discontinuities. Be cautious of filtering and epoching around these events.\n",
      "  raw = mne.io.read_raw_eeglab(fpath, preload=load)\n"
     ]
    }
   ],
   "source": [
    "raw, dfelec = helper.import_data(task=task)"
   ]
  },
  {
   "cell_type": "code",
   "execution_count": 2,
   "metadata": {},
   "outputs": [],
   "source": [
    "#dfelec"
   ]
  },
  {
   "cell_type": "code",
   "execution_count": 11,
   "metadata": {},
   "outputs": [],
   "source": [
    "#raw.info['ch_names']"
   ]
  },
  {
   "cell_type": "code",
   "execution_count": 5,
   "metadata": {},
   "outputs": [
    {
     "name": "stdout",
     "output_type": "stream",
     "text": [
      "Filtering raw data in 1 contiguous segment\n",
      "Setting up band-pass filter from 80 - 1e+02 Hz\n",
      "\n",
      "FIR filter parameters\n",
      "---------------------\n",
      "Designing a one-pass, non-linear phase, causal bandpass filter:\n",
      "- Windowed time-domain design (firwin) method\n",
      "- Blackman window with 0.0017 passband ripple and 74 dB stopband attenuation\n",
      "- Lower transition bandwidth: 10.00 Hz\n",
      "- Upper transition bandwidth: 10.00 Hz\n",
      "- Filter length: 251 samples (0.502 sec)\n",
      "\n",
      "Filtering raw data in 1 contiguous segment\n",
      "Setting up band-pass filter from 1e+02 - 1.2e+02 Hz\n",
      "\n",
      "FIR filter parameters\n",
      "---------------------\n",
      "Designing a one-pass, non-linear phase, causal bandpass filter:\n",
      "- Windowed time-domain design (firwin) method\n",
      "- Blackman window with 0.0017 passband ripple and 74 dB stopband attenuation\n",
      "- Lower transition bandwidth: 10.00 Hz\n",
      "- Upper transition bandwidth: 10.00 Hz\n",
      "- Filter length: 251 samples (0.502 sec)\n",
      "\n"
     ]
    },
    {
     "name": "stderr",
     "output_type": "stream",
     "text": [
      "/home/guime/projects/CIFAR/new_code/test/helper.py:103: RuntimeWarning: invalid value encountered in true_divide\n",
      "  HFB = np.divide(HFB, np.mean(HFB, axis=1)[:,np.newaxis])\n"
     ]
    },
    {
     "name": "stdout",
     "output_type": "stream",
     "text": [
      "Filtering raw data in 1 contiguous segment\n",
      "Setting up band-pass filter from 1.2e+02 - 1.4e+02 Hz\n",
      "\n",
      "FIR filter parameters\n",
      "---------------------\n",
      "Designing a one-pass, non-linear phase, causal bandpass filter:\n",
      "- Windowed time-domain design (firwin) method\n",
      "- Blackman window with 0.0017 passband ripple and 74 dB stopband attenuation\n",
      "- Lower transition bandwidth: 10.00 Hz\n",
      "- Upper transition bandwidth: 10.00 Hz\n",
      "- Filter length: 251 samples (0.502 sec)\n",
      "\n",
      "Filtering raw data in 1 contiguous segment\n",
      "Setting up band-pass filter from 1.4e+02 - 1.6e+02 Hz\n",
      "\n",
      "FIR filter parameters\n",
      "---------------------\n",
      "Designing a one-pass, non-linear phase, causal bandpass filter:\n",
      "- Windowed time-domain design (firwin) method\n",
      "- Blackman window with 0.0017 passband ripple and 74 dB stopband attenuation\n",
      "- Lower transition bandwidth: 10.00 Hz\n",
      "- Upper transition bandwidth: 10.00 Hz\n",
      "- Filter length: 251 samples (0.502 sec)\n",
      "\n",
      "Filtering raw data in 1 contiguous segment\n",
      "Setting up band-pass filter from 1.6e+02 - 1.8e+02 Hz\n",
      "\n",
      "FIR filter parameters\n",
      "---------------------\n",
      "Designing a one-pass, non-linear phase, causal bandpass filter:\n",
      "- Windowed time-domain design (firwin) method\n",
      "- Blackman window with 0.0017 passband ripple and 74 dB stopband attenuation\n",
      "- Lower transition bandwidth: 10.00 Hz\n",
      "- Upper transition bandwidth: 10.00 Hz\n",
      "- Filter length: 251 samples (0.502 sec)\n",
      "\n",
      "Creating RawArray with float64 data, n_channels=75, n_times=69108\n",
      "    Range : 0 ... 69107 =      0.000 ...   138.214 secs\n",
      "Ready.\n"
     ]
    }
   ],
   "source": [
    "HFB, raw_HFB = helper.HFB_raw(raw, l_freq=60, nband=6, band_size=20);"
   ]
  },
  {
   "cell_type": "code",
   "execution_count": 1,
   "metadata": {},
   "outputs": [
    {
     "ename": "NameError",
     "evalue": "name 'HFB' is not defined",
     "output_type": "error",
     "traceback": [
      "\u001b[0;31m---------------------------------------------------------------------------\u001b[0m",
      "\u001b[0;31mNameError\u001b[0m                                 Traceback (most recent call last)",
      "\u001b[0;32m<ipython-input-1-2eb157cc1ed2>\u001b[0m in \u001b[0;36m<module>\u001b[0;34m\u001b[0m\n\u001b[0;32m----> 1\u001b[0;31m \u001b[0mHFB\u001b[0m\u001b[0;34m\u001b[0m\u001b[0;34m\u001b[0m\u001b[0m\n\u001b[0m",
      "\u001b[0;31mNameError\u001b[0m: name 'HFB' is not defined"
     ]
    }
   ],
   "source": [
    "HFB"
   ]
  },
  {
   "cell_type": "code",
   "execution_count": 6,
   "metadata": {},
   "outputs": [
    {
     "name": "stdout",
     "output_type": "stream",
     "text": [
      "Used Annotations descriptions: ['-1', '-2', 'Face010', 'Face020', 'Face030', 'Face040', 'Face050', 'Face060', 'Face070', 'Place010', 'Place020', 'Place030', 'Place040', 'Place050', 'Place060', 'Place070', 'boundary']\n"
     ]
    }
   ],
   "source": [
    "# Create annotations from initial raw\n",
    "raw_HFB.set_annotations(raw.annotations)\n",
    "events, events_id = mne.events_from_annotations(raw_HFB)"
   ]
  },
  {
   "cell_type": "code",
   "execution_count": 22,
   "metadata": {},
   "outputs": [
    {
     "data": {
      "text/plain": [
       "{'-1': 1,\n",
       " '-2': 2,\n",
       " 'Face010': 3,\n",
       " 'Face020': 4,\n",
       " 'Face030': 5,\n",
       " 'Face040': 6,\n",
       " 'Face050': 7,\n",
       " 'Face060': 8,\n",
       " 'Face070': 9,\n",
       " 'Place010': 10,\n",
       " 'Place020': 11,\n",
       " 'Place030': 12,\n",
       " 'Place040': 13,\n",
       " 'Place050': 14,\n",
       " 'Place060': 15,\n",
       " 'Place070': 16,\n",
       " 'boundary': 17}"
      ]
     },
     "execution_count": 22,
     "metadata": {},
     "output_type": "execute_result"
    }
   ],
   "source": [
    "events_id"
   ]
  },
  {
   "cell_type": "code",
   "execution_count": 15,
   "metadata": {},
   "outputs": [],
   "source": [
    "#raw_HFB.plot(duration=30, n_channels=20, scalings=1, color='b', butterfly=False)"
   ]
  },
  {
   "cell_type": "code",
   "execution_count": 7,
   "metadata": {},
   "outputs": [],
   "source": [
    "place_id, face_id = helper.stim_id(events_id)"
   ]
  },
  {
   "cell_type": "code",
   "execution_count": 32,
   "metadata": {},
   "outputs": [
    {
     "name": "stdout",
     "output_type": "stream",
     "text": [
      "59 matching events found\n",
      "Applying baseline correction (mode: mean)\n",
      "Not setting metadata\n",
      "0 projection items activated\n",
      "Loading data for 59 events and 1126 original time points ...\n",
      "1 bad epochs dropped\n"
     ]
    }
   ],
   "source": [
    "epochs = mne.Epochs(raw_HFB, events, tmin=tmin, tmax=tmax, picks=picks, preload=True)"
   ]
  },
  {
   "cell_type": "code",
   "execution_count": 33,
   "metadata": {},
   "outputs": [
    {
     "data": {
      "text/plain": [
       "<Epochs  |   58 events (all good), -0.5 - 1.75 sec, baseline [None, 0], ~5.1 MB, data loaded,\n",
       " '1': 1\n",
       " '10': 4\n",
       " '11': 4\n",
       " '12': 4\n",
       " '13': 4\n",
       " '14': 4\n",
       " '15': 4\n",
       " '16': 4\n",
       " '17': 0\n",
       " '2': 1\n",
       " '3': 4\n",
       " '4': 4\n",
       " '5': 4\n",
       " '6': 4\n",
       " '7': 4\n",
       " '8': 4\n",
       " '9': 4>"
      ]
     },
     "execution_count": 33,
     "metadata": {},
     "output_type": "execute_result"
    }
   ],
   "source": [
    "epochs"
   ]
  },
  {
   "cell_type": "code",
   "execution_count": 28,
   "metadata": {},
   "outputs": [
    {
     "data": {
      "text/plain": [
       "<Epochs  |   58 events (all good), -0.5 - 1.75 sec, baseline [None, 0], ~5.1 MB, data loaded,\n",
       " '-1': 1\n",
       " '-2': 1\n",
       " 'Face010': 4\n",
       " 'Face020': 4\n",
       " 'Face030': 4\n",
       " 'Face040': 4\n",
       " 'Face050': 4\n",
       " 'Face060': 4\n",
       " 'Face070': 4\n",
       " 'Place010': 4\n",
       " 'Place020': 4\n",
       " 'Place030': 4\n",
       " 'Place040': 4\n",
       " 'Place050': 4\n",
       " 'Place060': 4\n",
       " 'Place070': 4\n",
       " 'boundary': 0>"
      ]
     },
     "execution_count": 28,
     "metadata": {},
     "output_type": "execute_result"
    }
   ],
   "source": [
    "epochs"
   ]
  },
  {
   "cell_type": "code",
   "execution_count": 24,
   "metadata": {},
   "outputs": [
    {
     "data": {
      "text/plain": [
       "<Epochs  |   58 events (all good), -0.5 - 1.75 sec, baseline [None, 0], ~5.1 MB, data loaded,\n",
       " '1': 1\n",
       " '10': 4\n",
       " '11': 4\n",
       " '12': 4\n",
       " '13': 4\n",
       " '14': 4\n",
       " '15': 4\n",
       " '16': 4\n",
       " '17': 0\n",
       " '2': 1\n",
       " '3': 4\n",
       " '4': 4\n",
       " '5': 4\n",
       " '6': 4\n",
       " '7': 4\n",
       " '8': 4\n",
       " '9': 4>"
      ]
     },
     "execution_count": 24,
     "metadata": {},
     "output_type": "execute_result"
    }
   ],
   "source": [
    "epochs"
   ]
  },
  {
   "cell_type": "code",
   "execution_count": 15,
   "metadata": {},
   "outputs": [
    {
     "data": {
      "text/plain": [
       "<Epochs  |   58 events (all good), -0.5 - 1.75 sec, baseline [None, 0], ~5.1 MB, data loaded,\n",
       " '1': 1\n",
       " '10': 4\n",
       " '11': 4\n",
       " '12': 4\n",
       " '13': 4\n",
       " '14': 4\n",
       " '15': 4\n",
       " '16': 4\n",
       " '17': 0\n",
       " '2': 1\n",
       " '3': 4\n",
       " '4': 4\n",
       " '5': 4\n",
       " '6': 4\n",
       " '7': 4\n",
       " '8': 4\n",
       " '9': 4>"
      ]
     },
     "execution_count": 15,
     "metadata": {},
     "output_type": "execute_result"
    }
   ],
   "source": [
    "epochs"
   ]
  },
  {
   "cell_type": "code",
   "execution_count": 16,
   "metadata": {},
   "outputs": [
    {
     "data": {
      "text/plain": [
       "['10', '11', '12', '13', '14', '15', '16']"
      ]
     },
     "execution_count": 16,
     "metadata": {},
     "output_type": "execute_result"
    }
   ],
   "source": [
    "place_id"
   ]
  },
  {
   "cell_type": "code",
   "execution_count": 20,
   "metadata": {},
   "outputs": [
    {
     "data": {
      "text/plain": [
       "<Epochs  |   28 events (all good), -0.5 - 1.75 sec, baseline [None, 0], ~2.5 MB, data loaded,\n",
       " '10': 4\n",
       " '11': 4\n",
       " '12': 4\n",
       " '13': 4\n",
       " '14': 4\n",
       " '15': 4\n",
       " '16': 4>"
      ]
     },
     "execution_count": 20,
     "metadata": {},
     "output_type": "execute_result"
    }
   ],
   "source": [
    "epochs[place_id]"
   ]
  },
  {
   "cell_type": "code",
   "execution_count": 21,
   "metadata": {},
   "outputs": [
    {
     "data": {
      "text/plain": [
       "{'-1': 1,\n",
       " '-2': 2,\n",
       " 'Face010': 3,\n",
       " 'Face020': 4,\n",
       " 'Face030': 5,\n",
       " 'Face040': 6,\n",
       " 'Face050': 7,\n",
       " 'Face060': 8,\n",
       " 'Face070': 9,\n",
       " 'Place010': 10,\n",
       " 'Place020': 11,\n",
       " 'Place030': 12,\n",
       " 'Place040': 13,\n",
       " 'Place050': 14,\n",
       " 'Place060': 15,\n",
       " 'Place070': 16,\n",
       " 'boundary': 17}"
      ]
     },
     "execution_count": 21,
     "metadata": {},
     "output_type": "execute_result"
    }
   ],
   "source": [
    "events_id"
   ]
  },
  {
   "cell_type": "code",
   "execution_count": null,
   "metadata": {},
   "outputs": [],
   "source": []
  },
  {
   "cell_type": "code",
   "execution_count": 189,
   "metadata": {},
   "outputs": [],
   "source": [
    "baseline = epochs.copy().crop(tmin=-0.4, tmax=-0.1)\n",
    "baseline = baseline.average()"
   ]
  },
  {
   "cell_type": "code",
   "execution_count": 59,
   "metadata": {},
   "outputs": [
    {
     "data": {
      "text/plain": [
       "58"
      ]
     },
     "execution_count": 59,
     "metadata": {},
     "output_type": "execute_result"
    }
   ],
   "source": [
    "len(epochs)"
   ]
  },
  {
   "cell_type": "code",
   "execution_count": 201,
   "metadata": {},
   "outputs": [],
   "source": [
    "# Create ratio of HFB with baseline\n",
    "HFB_epoch = epochs.get_data()\n",
    "baseline_ar = baseline.get_data()\n",
    "baseline_av = np.mean(baseline_ar,axis=2)\n",
    "HFB_norm = np.zeros_like(HFB_epoch)\n",
    "for i in range(len(epochs)):\n",
    "    for j in range(len(picks)):\n",
    "        HFB_norm[i,j,:] = np.divide(HFB_epoch[i,j,:], baseline_av[i,j])"
   ]
  },
  {
   "cell_type": "code",
   "execution_count": 202,
   "metadata": {},
   "outputs": [],
   "source": [
    "HFB_db = np.zeros_like(HFB_norm)\n",
    "for i in range(len(epochs)):\n",
    "    for j in range(len(picks)):\n",
    "        HFB_db[i,j,:] = 10*np.log10(np.abs(HFB_norm[i,j,:]))"
   ]
  },
  {
   "cell_type": "code",
   "execution_count": 203,
   "metadata": {},
   "outputs": [
    {
     "name": "stdout",
     "output_type": "stream",
     "text": [
      "58 matching events found\n",
      "No baseline correction applied\n",
      "Not setting metadata\n",
      "0 projection items activated\n",
      "0 bad epochs dropped\n"
     ]
    }
   ],
   "source": [
    "HFB_db_epoch = mne.EpochsArray(HFB_db, epochs.info, events=events[1:], tmin=tmin)"
   ]
  },
  {
   "cell_type": "code",
   "execution_count": 204,
   "metadata": {},
   "outputs": [],
   "source": [
    "HFB_face = HFB_db_epoch[face_id]\n",
    "HFB_place = HFB_db_epoch[place_id]"
   ]
  },
  {
   "cell_type": "code",
   "execution_count": 9,
   "metadata": {},
   "outputs": [],
   "source": [
    "# Select place and face selective epochs\n",
    "\n",
    "epoch_face = epochs[face_id]\n",
    "epoch_place = epochs[place_id]\n"
   ]
  },
  {
   "cell_type": "code",
   "execution_count": 10,
   "metadata": {},
   "outputs": [
    {
     "data": {
      "text/plain": [
       "<Epochs  |   28 events (all good), -0.5 - 1.75 sec, baseline [None, 0], ~2.5 MB, data loaded,\n",
       " '3': 4\n",
       " '4': 4\n",
       " '5': 4\n",
       " '6': 4\n",
       " '7': 4\n",
       " '8': 4\n",
       " '9': 4>"
      ]
     },
     "execution_count": 10,
     "metadata": {},
     "output_type": "execute_result"
    }
   ],
   "source": [
    "epoch_face"
   ]
  },
  {
   "cell_type": "code",
   "execution_count": 12,
   "metadata": {},
   "outputs": [
    {
     "data": {
      "text/plain": [
       "<Epochs  |   58 events (all good), -0.5 - 1.75 sec, baseline [None, 0], ~5.1 MB, data loaded,\n",
       " '1': 1\n",
       " '10': 4\n",
       " '11': 4\n",
       " '12': 4\n",
       " '13': 4\n",
       " '14': 4\n",
       " '15': 4\n",
       " '16': 4\n",
       " '17': 0\n",
       " '2': 1\n",
       " '3': 4\n",
       " '4': 4\n",
       " '5': 4\n",
       " '6': 4\n",
       " '7': 4\n",
       " '8': 4\n",
       " '9': 4>"
      ]
     },
     "execution_count": 12,
     "metadata": {},
     "output_type": "execute_result"
    }
   ],
   "source": [
    "epochs"
   ]
  },
  {
   "cell_type": "code",
   "execution_count": 13,
   "metadata": {},
   "outputs": [
    {
     "data": {
      "text/plain": [
       "['3', '4', '5', '6', '7', '8', '9']"
      ]
     },
     "execution_count": 13,
     "metadata": {},
     "output_type": "execute_result"
    }
   ],
   "source": [
    "face_id"
   ]
  },
  {
   "cell_type": "code",
   "execution_count": 210,
   "metadata": {},
   "outputs": [],
   "source": [
    "evok_face = HFB_face.average()\n",
    "evok_face_std = HFB_face.standard_error()\n",
    "evok_place = HFB_place.average()\n",
    "evok_face = evok_face.pick('LGRD60-LGRD61').data\n",
    "evok_face_std = evok_face_std.pick('LGRD60-LGRD61').data\n",
    "evok_place = evok_place.pick('LGRD60-LGRD61').data\n",
    "time = epochs.times"
   ]
  },
  {
   "cell_type": "code",
   "execution_count": 197,
   "metadata": {},
   "outputs": [
    {
     "data": {
      "text/plain": [
       "array([11.51812129, 12.6480928 , 12.71557552, ..., 13.58833164,\n",
       "       13.84222454, 15.91270417])"
      ]
     },
     "execution_count": 197,
     "metadata": {},
     "output_type": "execute_result"
    }
   ],
   "source": [
    "evok_face[0,:]"
   ]
  },
  {
   "cell_type": "code",
   "execution_count": 212,
   "metadata": {},
   "outputs": [
    {
     "data": {
      "text/plain": [
       "<matplotlib.collections.PolyCollection at 0x7f8bac79afd0>"
      ]
     },
     "execution_count": 212,
     "metadata": {},
     "output_type": "execute_result"
    }
   ],
   "source": [
    "plt.plot(time, evok_face[0,:])\n",
    "plt.plot(time, evok_place[0,:])\n",
    "plt.fill_between(time, evok_face[0,:]-evok_face_std[0,:], evok_face[0,:]+evok_face_std[0,:])"
   ]
  },
  {
   "cell_type": "code",
   "execution_count": 20,
   "metadata": {},
   "outputs": [],
   "source": [
    "ROI, ch_index, ch_names = helper.ch_info(picks=picks, dfelec=dfelec, epochs=epoch_face)"
   ]
  },
  {
   "cell_type": "code",
   "execution_count": 147,
   "metadata": {},
   "outputs": [],
   "source": [
    "# Transform in array\n",
    "epochs_face = epoch_face.get_data()\n",
    "epochs_place = epoch_place.get_data()"
   ]
  },
  {
   "cell_type": "code",
   "execution_count": 23,
   "metadata": {},
   "outputs": [],
   "source": [
    "fname_place = helper.CIFAR_filename(subid=subject,task=task_save,proc=proc, suffix=suffix_place)\n",
    "fname_face = helper.CIFAR_filename(subid=subject,task=task_save,proc=proc, suffix=suffix_face)\n",
    "fpath_place = save2.joinpath(fname_place)\n",
    "fpath_face = save2.joinpath(fname_face)\n",
    "\n",
    "scipy.io.savemat(fpath_place, dict(epochs=epochs_place, ch_index=ch_index, ch_names=ch_names, ROI=ROI))\n",
    "scipy.io.savemat(fpath_face, dict(epochs=epochs_face, ch_index=ch_index, ch_names=ch_names, ROI=ROI))"
   ]
  }
 ],
 "metadata": {
  "kernelspec": {
   "display_name": "Python 3",
   "language": "python",
   "name": "python3"
  },
  "language_info": {
   "codemirror_mode": {
    "name": "ipython",
    "version": 3
   },
   "file_extension": ".py",
   "mimetype": "text/x-python",
   "name": "python",
   "nbconvert_exporter": "python",
   "pygments_lexer": "ipython3",
   "version": "3.7.7"
  }
 },
 "nbformat": 4,
 "nbformat_minor": 4
}
