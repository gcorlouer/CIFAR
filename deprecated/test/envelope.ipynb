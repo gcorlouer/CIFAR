{
 "cells": [
  {
   "cell_type": "code",
   "execution_count": 64,
   "metadata": {},
   "outputs": [
    {
     "name": "stdout",
     "output_type": "stream",
     "text": [
      "Using matplotlib backend: Qt5Agg\n"
     ]
    }
   ],
   "source": [
    "import helper\n",
    "import mne\n",
    "import scipy.io\n",
    "import pandas as pd\n",
    "import numpy as np\n",
    "import matplotlib.pyplot as plt\n",
    "\n",
    "pd.options.display.html.table_schema = True\n",
    "pd.options.display.max_rows = None\n",
    "from pathlib import Path, PurePath\n",
    "\n",
    "%matplotlib\n",
    "plt.rcParams.update({'font.size': 17})"
   ]
  },
  {
   "cell_type": "code",
   "execution_count": 107,
   "metadata": {},
   "outputs": [],
   "source": [
    "# Parameters \n",
    "\n",
    "# Subject and task\n",
    "subject = 'DiAs'\n",
    "subject_id = '04'\n",
    "proc = 'BP'\n",
    "task = 'rest_baseline'\n",
    "run = '1'\n",
    "\n",
    "# High frequency bands \n",
    "l_freq = 60\n",
    "nband = 6 \n",
    "band_size = 20 \n",
    "\n",
    "# electrodes to pick \n",
    "\n",
    "picks = ['LGRD60-LGRD61', 'LGRD49-LGRD57', 'LGRD50-LGRD51', 'LGRD58-LGRD59','LTo1-LTo2','LTo3-LTo4','LTo5-LTo6','LTp1-LTp2','LTp3-LTp4']\n",
    "\n",
    "# Epoch parameter\n",
    "\n",
    "tmin = -0.5 # Prestimulus\n",
    "tmax = 1.75 # Poststimulus\n",
    "\n",
    "# Saving paramerters \n",
    "\n",
    "save2 = Path('~','projects','CIFAR','data_fun').expanduser()\n",
    "task_save = 'stimuli'\n",
    "suffix_place = '_epoch_place.mat'\n",
    "suffix_face = '_epoch_face.mat'"
   ]
  },
  {
   "cell_type": "code",
   "execution_count": 108,
   "metadata": {},
   "outputs": [
    {
     "name": "stdout",
     "output_type": "stream",
     "text": [
      "Reading /home/guime/CIFAR_data/iEEG_10/subjects/DiAs/EEGLAB_datasets/bipolar_montage/DiAs_freerecall_rest_baseline_1_preprocessed_BP_montage.fdt\n",
      "Reading 0 ... 104998  =      0.000 ...   209.996 secs...\n"
     ]
    },
    {
     "name": "stderr",
     "output_type": "stream",
     "text": [
      "/home/guime/projects/CIFAR/new_code/test/helper.py:26: RuntimeWarning: Limited 1 annotation(s) that were expanding outside the data range.\n",
      "  raw = mne.io.read_raw_eeglab(fpath, preload=load)\n",
      "/home/guime/projects/CIFAR/new_code/test/helper.py:26: RuntimeWarning: The data contains 'boundary' events, indicating data discontinuities. Be cautious of filtering and epoching around these events.\n",
      "  raw = mne.io.read_raw_eeglab(fpath, preload=load)\n"
     ]
    }
   ],
   "source": [
    "raw, dfelec = helper.import_data(task=task)"
   ]
  },
  {
   "cell_type": "code",
   "execution_count": 109,
   "metadata": {},
   "outputs": [
    {
     "name": "stdout",
     "output_type": "stream",
     "text": [
      "Filtering raw data in 1 contiguous segment\n",
      "Setting up band-pass filter from 80 - 1e+02 Hz\n",
      "\n",
      "FIR filter parameters\n",
      "---------------------\n",
      "Designing a one-pass, non-linear phase, causal bandpass filter:\n",
      "- Windowed time-domain design (firwin) method\n",
      "- Blackman window with 0.0017 passband ripple and 74 dB stopband attenuation\n",
      "- Lower transition bandwidth: 10.00 Hz\n",
      "- Upper transition bandwidth: 10.00 Hz\n",
      "- Filter length: 251 samples (0.502 sec)\n",
      "\n",
      "Converting \"time\" to \"<class 'numpy.int64'>\"...\n",
      "Filtering raw data in 1 contiguous segment\n",
      "Setting up band-pass filter from 1e+02 - 1.2e+02 Hz\n",
      "\n",
      "FIR filter parameters\n",
      "---------------------\n",
      "Designing a one-pass, non-linear phase, causal bandpass filter:\n",
      "- Windowed time-domain design (firwin) method\n",
      "- Blackman window with 0.0017 passband ripple and 74 dB stopband attenuation\n",
      "- Lower transition bandwidth: 10.00 Hz\n",
      "- Upper transition bandwidth: 10.00 Hz\n",
      "- Filter length: 251 samples (0.502 sec)\n",
      "\n"
     ]
    },
    {
     "name": "stderr",
     "output_type": "stream",
     "text": [
      "/home/guime/projects/CIFAR/new_code/test/helper.py:86: RuntimeWarning: invalid value encountered in true_divide\n",
      "  HFB = np.divide(HFB, np.mean(HFB, axis=0))\n"
     ]
    },
    {
     "name": "stdout",
     "output_type": "stream",
     "text": [
      "Converting \"time\" to \"<class 'numpy.int64'>\"...\n",
      "Filtering raw data in 1 contiguous segment\n",
      "Setting up band-pass filter from 1.2e+02 - 1.4e+02 Hz\n",
      "\n",
      "FIR filter parameters\n",
      "---------------------\n",
      "Designing a one-pass, non-linear phase, causal bandpass filter:\n",
      "- Windowed time-domain design (firwin) method\n",
      "- Blackman window with 0.0017 passband ripple and 74 dB stopband attenuation\n",
      "- Lower transition bandwidth: 10.00 Hz\n",
      "- Upper transition bandwidth: 10.00 Hz\n",
      "- Filter length: 251 samples (0.502 sec)\n",
      "\n",
      "Converting \"time\" to \"<class 'numpy.int64'>\"...\n",
      "Filtering raw data in 1 contiguous segment\n",
      "Setting up band-pass filter from 1.4e+02 - 1.6e+02 Hz\n",
      "\n",
      "FIR filter parameters\n",
      "---------------------\n",
      "Designing a one-pass, non-linear phase, causal bandpass filter:\n",
      "- Windowed time-domain design (firwin) method\n",
      "- Blackman window with 0.0017 passband ripple and 74 dB stopband attenuation\n",
      "- Lower transition bandwidth: 10.00 Hz\n",
      "- Upper transition bandwidth: 10.00 Hz\n",
      "- Filter length: 251 samples (0.502 sec)\n",
      "\n",
      "Converting \"time\" to \"<class 'numpy.int64'>\"...\n",
      "Filtering raw data in 1 contiguous segment\n",
      "Setting up band-pass filter from 1.6e+02 - 1.8e+02 Hz\n",
      "\n",
      "FIR filter parameters\n",
      "---------------------\n",
      "Designing a one-pass, non-linear phase, causal bandpass filter:\n",
      "- Windowed time-domain design (firwin) method\n",
      "- Blackman window with 0.0017 passband ripple and 74 dB stopband attenuation\n",
      "- Lower transition bandwidth: 10.00 Hz\n",
      "- Upper transition bandwidth: 10.00 Hz\n",
      "- Filter length: 251 samples (0.502 sec)\n",
      "\n",
      "Converting \"time\" to \"<class 'numpy.int64'>\"...\n",
      "Creating RawArray with float64 data, n_channels=75, n_times=104999\n",
      "    Range : 0 ... 104998 =      0.000 ...   209.996 secs\n",
      "Ready.\n"
     ]
    }
   ],
   "source": [
    "    HFB, raw_HFB = helper.HFB(raw, l_freq=60, nband=6, band_size=20);"
   ]
  },
  {
   "cell_type": "code",
   "execution_count": 92,
   "metadata": {},
   "outputs": [
    {
     "name": "stdout",
     "output_type": "stream",
     "text": [
      "Used Annotations descriptions: ['-1', '-2', 'boundary']\n",
      "3 matching events found\n",
      "Applying baseline correction (mode: mean)\n",
      "Not setting metadata\n",
      "0 projection items activated\n",
      "Loading data for 3 events and 1126 original time points ...\n",
      "1 bad epochs dropped\n"
     ]
    }
   ],
   "source": [
    "# Create annotations from initial raw\n",
    "raw_HFB.set_annotations(raw.annotations)\n",
    "events, events_id = mne.events_from_annotations(raw_HFB)\n",
    "place_id, face_id = helper.stim_id(events_id)\n",
    "epochs = mne.Epochs(raw_HFB, events, tmin=tmin, tmax=tmax, picks=picks, preload=True)\n",
    "time = epochs.times"
   ]
  },
  {
   "cell_type": "code",
   "execution_count": 6,
   "metadata": {},
   "outputs": [
    {
     "name": "stdout",
     "output_type": "stream",
     "text": [
      "58 matching events found\n",
      "No baseline correction applied\n",
      "Not setting metadata\n",
      "0 projection items activated\n",
      "0 bad epochs dropped\n"
     ]
    }
   ],
   "source": [
    " HFB_db = helper.HFB_norm(epochs, picks, events, tmin)"
   ]
  },
  {
   "cell_type": "code",
   "execution_count": null,
   "metadata": {},
   "outputs": [],
   "source": [
    "picks = ['LGRD60-LGRD61', 'LGRD50-LGRD51', 'LGRD58-LGRD59','LTo1-LTo2','LTo3-LTo4','LTo5-LTo6','LTp1-LTp2','LTp3-LTp4']"
   ]
  },
  {
   "cell_type": "code",
   "execution_count": 65,
   "metadata": {},
   "outputs": [
    {
     "data": {
      "text/plain": [
       "Text(0.5, 0, 'Time (s)')"
      ]
     },
     "execution_count": 65,
     "metadata": {},
     "output_type": "execute_result"
    }
   ],
   "source": [
    "for index, channel in enumerate(['LGRD60-LGRD61', 'LTo3-LTo4']):\n",
    "    plt.subplot(2,1,index+1)\n",
    "    for condition in (face_id, place_id):\n",
    "        HFB_condition = HFB_db[condition]\n",
    "        evok = HFB_condition.average()\n",
    "        evok = evok.pick(channel).data\n",
    "        evok_std = HFB_condition.standard_error()\n",
    "        evok_std = evok_std.pick(channel).data\n",
    "        if condition[0]=='10':\n",
    "            cdt = 'place'\n",
    "        else: \n",
    "            cdt = 'face'\n",
    "        plt.plot(time, evok[0,:], label = cdt)\n",
    "        plt.fill_between(time, evok[0,:]-evok_std[0,:], evok[0,:]+evok_std[0,:])\n",
    "        plt.ylabel('Amplitude (db)')\n",
    "        plt.title(channel)\n",
    "        plt.legend()\n",
    "        plt.axvline(x=0)\n",
    "plt.xlabel('Time (s)')"
   ]
  },
  {
   "cell_type": "code",
   "execution_count": 76,
   "metadata": {},
   "outputs": [],
   "source": [
    "# Plot psd \n",
    "HFB = raw_HFB.copy().get_data(picks='LGRD60-LGRD61')"
   ]
  },
  {
   "cell_type": "code",
   "execution_count": 110,
   "metadata": {},
   "outputs": [
    {
     "name": "stdout",
     "output_type": "stream",
     "text": [
      "No projector specified for this dataset. Please consider the method self.add_proj.\n",
      "    Using multitaper spectrum estimation with 7 DPSS windows\n"
     ]
    },
    {
     "data": {
      "text/plain": [
       "<matplotlib.legend.Legend at 0x7fa6bc23d150>"
      ]
     },
     "execution_count": 110,
     "metadata": {},
     "output_type": "execute_result"
    }
   ],
   "source": [
    "from mne.time_frequency import psd_multitaper\n",
    "chan = 'LGRD60-LGRD61'\n",
    "psds, freqs = psd_multitaper(raw_HFB, low_bias=True,\n",
    "                             fmin=0.01, fmax=10, proj=True, picks=chan,\n",
    "                             n_jobs=1)\n",
    "psds = 10 * np.log10(psds)\n",
    "plt.plot(freqs, psds[0,:],label='rest')\n",
    "plt.xscale('log')\n",
    "plt.xlabel('Frequency (Hz), log scale')\n",
    "plt.ylabel('Amplitude (dB), log scale')\n",
    "plt.title('HFB spectra, categroy selective electrode')\n",
    "plt.legend()"
   ]
  },
  {
   "cell_type": "code",
   "execution_count": null,
   "metadata": {},
   "outputs": [],
   "source": []
  }
 ],
 "metadata": {
  "kernelspec": {
   "display_name": "Python 3",
   "language": "python",
   "name": "python3"
  },
  "language_info": {
   "codemirror_mode": {
    "name": "ipython",
    "version": 3
   },
   "file_extension": ".py",
   "mimetype": "text/x-python",
   "name": "python",
   "nbconvert_exporter": "python",
   "pygments_lexer": "ipython3",
   "version": "3.7.7"
  }
 },
 "nbformat": 4,
 "nbformat_minor": 4
}
