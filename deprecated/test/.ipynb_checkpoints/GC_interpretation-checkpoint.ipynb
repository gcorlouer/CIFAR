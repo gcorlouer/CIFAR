{
 "cells": [
  {
   "cell_type": "code",
   "execution_count": 23,
   "metadata": {},
   "outputs": [
    {
     "name": "stdout",
     "output_type": "stream",
     "text": [
      "Using matplotlib backend: Qt5Agg\n"
     ]
    }
   ],
   "source": [
    "import helper\n",
    "import mne\n",
    "import scipy.io\n",
    "import pandas as pd\n",
    "import numpy as np\n",
    "import matplotlib.pyplot as plt\n",
    "\n",
    "pd.options.display.html.table_schema = True\n",
    "pd.options.display.max_rows = None\n",
    "from pathlib import Path, PurePath\n",
    "\n",
    "%matplotlib\n",
    "plt.rcParams.update({'font.size': 14})"
   ]
  },
  {
   "cell_type": "code",
   "execution_count": 24,
   "metadata": {},
   "outputs": [],
   "source": [
    "# Parameters \n",
    "\n",
    "# Subject and task\n",
    "subject = 'DiAs'\n",
    "subject_id = '04'\n",
    "proc = 'BP'\n",
    "task = 'stimuli'\n",
    "run = '1'\n",
    "suffix = '_GC_epoch_face.mat'\n",
    "save2 = Path('~','projects','CIFAR','data_fun').expanduser()"
   ]
  },
  {
   "cell_type": "code",
   "execution_count": 25,
   "metadata": {},
   "outputs": [],
   "source": [
    "GC_face_fname = 'DiAs_freerecall_stimuli_1_preprocessed_BP_montage_GC_epoch_face.mat'\n",
    "GC_face_fpath = save2.joinpath(GC_fname)\n",
    "F_face = scipy.io.loadmat(GC_face_fpath)\n",
    "GC_place_fname = 'DiAs_freerecall_stimuli_1_preprocessed_BP_montage_GC_epoch_place.mat'\n",
    "GC_place_fpath = save2.joinpath(GC_fname)\n",
    "F_place = scipy.io.loadmat(GC_face_fpath)"
   ]
  },
  {
   "cell_type": "code",
   "execution_count": 26,
   "metadata": {},
   "outputs": [],
   "source": [
    "GC_face =F_face['F']\n",
    "GC_place = F_place['F']"
   ]
  },
  {
   "cell_type": "code",
   "execution_count": null,
   "metadata": {},
   "outputs": [],
   "source": [
    "fig, ax = plt.subplots(ncols=2, sharey=False, sharex=False)\n",
    "F1 = seaborn.heatmap(GC_face, cmap=\"YlGnBu\", vmin=0, vmax=0.004, annot=False, square=True, robust=False, xticklabels=ROI_pick, yticklabels=ROI_pick, ax=ax[0])\n",
    "F2 = seaborn.heatmap(GC_place, cmap=\"YlGnBu\", vmin=0, vmax=0.004, annot=False, square=True, robust=False, xticklabels=ROI_pick, yticklabels=ROI_pick, ax=ax[1])\n",
    "#plt.tight_layout()\n",
    "plt.show()"
   ]
  }
 ],
 "metadata": {
  "kernelspec": {
   "display_name": "Python 3",
   "language": "python",
   "name": "python3"
  },
  "language_info": {
   "codemirror_mode": {
    "name": "ipython",
    "version": 3
   },
   "file_extension": ".py",
   "mimetype": "text/x-python",
   "name": "python",
   "nbconvert_exporter": "python",
   "pygments_lexer": "ipython3",
   "version": "3.7.7"
  }
 },
 "nbformat": 4,
 "nbformat_minor": 4
}
