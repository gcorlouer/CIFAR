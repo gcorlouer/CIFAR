{
 "cells": [
  {
   "cell_type": "code",
   "execution_count": 30,
   "metadata": {},
   "outputs": [
    {
     "name": "stdout",
     "output_type": "stream",
     "text": [
      "Using matplotlib backend: Qt5Agg\n"
     ]
    }
   ],
   "source": [
    "import helper\n",
    "import mne\n",
    "import scipy.io\n",
    "import pandas as pd\n",
    "import numpy as np\n",
    "import matplotlib.pyplot as plt\n",
    "import seaborn \n",
    "\n",
    "pd.options.display.html.table_schema = True\n",
    "pd.options.display.max_rows = None\n",
    "from pathlib import Path, PurePath\n",
    "\n",
    "%matplotlib\n",
    "plt.rcParams.update({'font.size': 14})"
   ]
  },
  {
   "cell_type": "code",
   "execution_count": 24,
   "metadata": {},
   "outputs": [],
   "source": [
    "# Parameters \n",
    "\n",
    "# Subject and task\n",
    "subject = 'DiAs'\n",
    "subject_id = '04'\n",
    "proc = 'BP'\n",
    "task = 'stimuli'\n",
    "run = '1'\n",
    "suffix = '_GC_epoch_face.mat'\n",
    "save2 = Path('~','projects','CIFAR','data_fun').expanduser()"
   ]
  },
  {
   "cell_type": "code",
   "execution_count": 28,
   "metadata": {},
   "outputs": [
    {
     "name": "stdout",
     "output_type": "stream",
     "text": [
      "Reading /home/guime/CIFAR_data/iEEG_10/subjects/DiAs/EEGLAB_datasets/bipolar_montage/DiAs_freerecall_stimuli_1_preprocessed_BP_montage.fdt\n",
      "Reading 0 ... 69107  =      0.000 ...   138.214 secs...\n"
     ]
    },
    {
     "name": "stderr",
     "output_type": "stream",
     "text": [
      "/home/guime/projects/CIFAR/new_code/test/helper.py:26: RuntimeWarning: Limited 2 annotation(s) that were expanding outside the data range.\n",
      "  raw = mne.io.read_raw_eeglab(fpath, preload=load)\n",
      "/home/guime/projects/CIFAR/new_code/test/helper.py:26: RuntimeWarning: The data contains 'boundary' events, indicating data discontinuities. Be cautious of filtering and epoching around these events.\n",
      "  raw = mne.io.read_raw_eeglab(fpath, preload=load)\n"
     ]
    }
   ],
   "source": [
    "picks = ['LTo3-LTo4','LGRD60-LGRD61'] # category selective, face selective\n",
    "raw, dfelec = helper.import_data(task=task)\n",
    "ROI, ch_index, ch_names = helper.ch_info(picks=picks, dfelec=dfelec, epochs=raw)"
   ]
  },
  {
   "cell_type": "code",
   "execution_count": 35,
   "metadata": {},
   "outputs": [],
   "source": [
    "GC_face_fname = 'DiAs_freerecall_stimuli_1_preprocessed_BP_montage_GC_epoch_face.mat'\n",
    "GC_face_fpath = save2.joinpath(GC_fname)\n",
    "F_face = scipy.io.loadmat(GC_face_fpath)\n",
    "GC_place_fname = 'DiAs_freerecall_stimuli_1_preprocessed_BP_montage_GC_epoch_place.mat'\n",
    "GC_place_fpath = save2.joinpath(GC_place_fname)\n",
    "F_place = scipy.io.loadmat(GC_place_fpath)"
   ]
  },
  {
   "cell_type": "code",
   "execution_count": 36,
   "metadata": {},
   "outputs": [],
   "source": [
    "GC_face =F_face['F']\n",
    "GC_place = F_place['F']"
   ]
  },
  {
   "cell_type": "code",
   "execution_count": 38,
   "metadata": {},
   "outputs": [],
   "source": [
    "fig, ax = plt.subplots(ncols=2, sharey=False, sharex=False)\n",
    "F1 = seaborn.heatmap(GC_face, cmap=\"YlGnBu\", vmin=0, vmax=0.002, annot=False, square=True, robust=False, xticklabels=ROI, yticklabels=ROI, ax=ax[0])\n",
    "F2 = seaborn.heatmap(GC_place, cmap=\"YlGnBu\", vmin=0, vmax=0.002, annot=False, square=True, robust=False, xticklabels=ROI, yticklabels=ROI, ax=ax[1])\n",
    "#plt.tight_layout()\n",
    "plt.show()"
   ]
  },
  {
   "cell_type": "code",
   "execution_count": null,
   "metadata": {},
   "outputs": [],
   "source": []
  }
 ],
 "metadata": {
  "kernelspec": {
   "display_name": "Python 3",
   "language": "python",
   "name": "python3"
  },
  "language_info": {
   "codemirror_mode": {
    "name": "ipython",
    "version": 3
   },
   "file_extension": ".py",
   "mimetype": "text/x-python",
   "name": "python",
   "nbconvert_exporter": "python",
   "pygments_lexer": "ipython3",
   "version": "3.7.7"
  }
 },
 "nbformat": 4,
 "nbformat_minor": 4
}
