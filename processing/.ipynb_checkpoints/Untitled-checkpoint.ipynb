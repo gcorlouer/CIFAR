{
 "cells": [
  {
   "cell_type": "code",
   "execution_count": null,
   "id": "0524c279-6dc1-470a-bf1f-01351a2638bd",
   "metadata": {},
   "outputs": [],
   "source": [
    "import HFB_process as hf\n",
    "import mne\n",
    "import numpy as np\n",
    "\n",
    "from config import args"
   ]
  }
 ],
 "metadata": {
  "kernelspec": {
   "display_name": "Python 3",
   "language": "python",
   "name": "python3"
  },
  "language_info": {
   "codemirror_mode": {
    "name": "ipython",
    "version": 3
   },
   "file_extension": ".py",
   "mimetype": "text/x-python",
   "name": "python",
   "nbconvert_exporter": "python",
   "pygments_lexer": "ipython3",
   "version": "3.7.7"
  }
 },
 "nbformat": 4,
 "nbformat_minor": 5
}
